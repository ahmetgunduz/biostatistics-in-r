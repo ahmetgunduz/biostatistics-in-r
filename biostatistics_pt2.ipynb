{
 "cells": [
  {
   "cell_type": "markdown",
   "metadata": {},
   "source": [
    "**<center><font size=5>(Bio)statistics in R: Part #2</font></center>**\n",
    "***<center>\"Making Assumptions about Population using Knowledge about Sample\"</center>***\n",
    "***\n",
    "\n",
    "**author**: Ruslan Klymentiev\n",
    "\n",
    "**date**: 6th August, 2018\n",
    "\n",
    "![](https://image.ibb.co/hiisWK/pexels_photo_935869.jpg)\n",
    "\n",
    "***[Link to Part #1](https://www.kaggle.com/ruslankl/bio-statistics-in-r-part-1)***"
   ]
  },
  {
   "cell_type": "markdown",
   "metadata": {},
   "source": [
    "- <a href='#intro'>Project Introduction</a>  \n",
    "- <a href='#setup'>Setting up the Environment</a>\n",
    "- <a href='#lklhd'>Likelihood</a> \n",
    "- <a href='#appr'>Approximation results and confidence intervals</a> \n",
    " - <a href='#lln'>Law of Large Numbers</a> \n",
    " - <a href='#clt'>Central Limit Theorem</a> \n",
    " - <a href='#ci'>Confidence Intervals</a> \n",
    "- <a href='#tnf'><i>t</i> and F tests</a>\n",
    " - <a href='#ttest'>Introduction to <i>t</i>-test and confidence intervals</a>\n",
    " - <a href='#ftest'>F test</a>\n",
    "- <a href='#rsmpl'>Data Resampling</a>\n",
    " - <a href='#jk'>Jackknife</a>\n",
    " - <a href='#boot'>Bootstrapping</a>\n",
    "- <a href='#bii'>Interval for Binomial Probabilities</a>\n",
    "- <a href='#next'>What to Expect Next</a>"
   ]
  },
  {
   "cell_type": "markdown",
   "metadata": {},
   "source": [
    "## <a id='setup'>Project Introduction</a> \n",
    "\n",
    "First of all, I want to say thank for your feedbacks and positive comments on [previous part](https://www.kaggle.com/ruslankl/bio-statistics-in-r-part-1). I really hope that it was worth reading.\n",
    "\n",
    "So now we know what is probability, difference between sample and population, we can calculate main characterictics of distribution and explore them through visualization. Also we covered how to explore test results using probabilistic thinking and Bayes Rule. \n",
    "\n",
    "In this part we will focus on how make decisions about population based on the information of sample. I will use the same [Healthcare Dataset](https://www.kaggle.com/asaumya/healthcare-dataset-stroke-data)."
   ]
  },
  {
   "cell_type": "markdown",
   "metadata": {},
   "source": [
    "## <a id='setup'>Setting up the environment</a> "
   ]
  },
  {
   "cell_type": "code",
   "execution_count": 48,
   "metadata": {},
   "outputs": [
    {
     "data": {
      "text/html": [
       "<table>\n",
       "<thead><tr><th></th><th scope=col>gender</th><th scope=col>age</th><th scope=col>hypertension</th><th scope=col>heart_disease</th><th scope=col>ever_married</th><th scope=col>work_type</th><th scope=col>Residence_type</th><th scope=col>avg_glucose_level</th><th scope=col>bmi</th><th scope=col>smoking_status</th><th scope=col>stroke</th></tr></thead>\n",
       "<tbody>\n",
       "\t<tr><th scope=row>12059</th><td>Female         </td><td>38             </td><td>0              </td><td>0              </td><td>Yes            </td><td>Private        </td><td>Urban          </td><td>109.33         </td><td>26.6           </td><td>smokes         </td><td>0              </td></tr>\n",
       "\t<tr><th scope=row>33054</th><td>Female         </td><td>76             </td><td>1              </td><td>0              </td><td>No             </td><td>Private        </td><td>Urban          </td><td>208.70         </td><td>32.9           </td><td>never smoked   </td><td>0              </td></tr>\n",
       "\t<tr><th scope=row>17148</th><td>Male           </td><td>16             </td><td>0              </td><td>0              </td><td>No             </td><td>Private        </td><td>Rural          </td><td> 96.73         </td><td>33.8           </td><td>               </td><td>0              </td></tr>\n",
       "\t<tr><th scope=row>37024</th><td>Male           </td><td>54             </td><td>0              </td><td>0              </td><td>Yes            </td><td>Self-employed  </td><td>Urban          </td><td> 62.52         </td><td>29.9           </td><td>formerly smoked</td><td>0              </td></tr>\n",
       "\t<tr><th scope=row>39431</th><td>Male           </td><td>46             </td><td>0              </td><td>0              </td><td>Yes            </td><td>Private        </td><td>Rural          </td><td>137.60         </td><td>24.4           </td><td>formerly smoked</td><td>0              </td></tr>\n",
       "</tbody>\n",
       "</table>\n"
      ],
      "text/latex": [
       "\\begin{tabular}{r|lllllllllll}\n",
       "  & gender & age & hypertension & heart\\_disease & ever\\_married & work\\_type & Residence\\_type & avg\\_glucose\\_level & bmi & smoking\\_status & stroke\\\\\n",
       "\\hline\n",
       "\t12059 & Female          & 38              & 0               & 0               & Yes             & Private         & Urban           & 109.33          & 26.6            & smokes          & 0              \\\\\n",
       "\t33054 & Female          & 76              & 1               & 0               & No              & Private         & Urban           & 208.70          & 32.9            & never smoked    & 0              \\\\\n",
       "\t17148 & Male            & 16              & 0               & 0               & No              & Private         & Rural           &  96.73          & 33.8            &                 & 0              \\\\\n",
       "\t37024 & Male            & 54              & 0               & 0               & Yes             & Self-employed   & Urban           &  62.52          & 29.9            & formerly smoked & 0              \\\\\n",
       "\t39431 & Male            & 46              & 0               & 0               & Yes             & Private         & Rural           & 137.60          & 24.4            & formerly smoked & 0              \\\\\n",
       "\\end{tabular}\n"
      ],
      "text/markdown": [
       "\n",
       "| <!--/--> | gender | age | hypertension | heart_disease | ever_married | work_type | Residence_type | avg_glucose_level | bmi | smoking_status | stroke | \n",
       "|---|---|---|---|---|\n",
       "| 12059 | Female          | 38              | 0               | 0               | Yes             | Private         | Urban           | 109.33          | 26.6            | smokes          | 0               | \n",
       "| 33054 | Female          | 76              | 1               | 0               | No              | Private         | Urban           | 208.70          | 32.9            | never smoked    | 0               | \n",
       "| 17148 | Male            | 16              | 0               | 0               | No              | Private         | Rural           |  96.73          | 33.8            |                 | 0               | \n",
       "| 37024 | Male            | 54              | 0               | 0               | Yes             | Self-employed   | Urban           |  62.52          | 29.9            | formerly smoked | 0               | \n",
       "| 39431 | Male            | 46              | 0               | 0               | Yes             | Private         | Rural           | 137.60          | 24.4            | formerly smoked | 0               | \n",
       "\n",
       "\n"
      ],
      "text/plain": [
       "      gender age hypertension heart_disease ever_married work_type    \n",
       "12059 Female 38  0            0             Yes          Private      \n",
       "33054 Female 76  1            0             No           Private      \n",
       "17148 Male   16  0            0             No           Private      \n",
       "37024 Male   54  0            0             Yes          Self-employed\n",
       "39431 Male   46  0            0             Yes          Private      \n",
       "      Residence_type avg_glucose_level bmi  smoking_status  stroke\n",
       "12059 Urban          109.33            26.6 smokes          0     \n",
       "33054 Urban          208.70            32.9 never smoked    0     \n",
       "17148 Rural           96.73            33.8                 0     \n",
       "37024 Urban           62.52            29.9 formerly smoked 0     \n",
       "39431 Rural          137.60            24.4 formerly smoked 0     "
      ]
     },
     "metadata": {},
     "output_type": "display_data"
    }
   ],
   "source": [
    "suppressMessages(library(tidyverse))\n",
    "suppressMessages(library(repr))\n",
    "suppressMessages(library(cowplot))\n",
    "suppressMessages(library(bootstrap))\n",
    "suppressMessages(library(binom))\n",
    "suppressMessages(library(infer))\n",
    "set.seed(123)\n",
    "options(repr.plot.width=7, repr.plot.height=3)\n",
    "\n",
    "Stroke_Data <- read.csv(\"healthcare-dataset-stroke-data/train_2v.csv\")\n",
    "\n",
    "# some data cleaning\n",
    "Stroke_Data <- Stroke_Data %>% filter(gender != \"Other\" & !(is.na(bmi))) %>%\n",
    "  select(-id)\n",
    "\n",
    "# convert some variables to a factor\n",
    "Stroke_Data$hypertension <- as.factor(Stroke_Data$hypertension)\n",
    "Stroke_Data$heart_disease <- as.factor(Stroke_Data$heart_disease)\n",
    "Stroke_Data$stroke <- as.factor(Stroke_Data$stroke)\n",
    "\n",
    "sample_n(Stroke_Data, 5)"
   ]
  },
  {
   "cell_type": "markdown",
   "metadata": {},
   "source": [
    "## <a id='lklhd'>Likelihood</a> \n",
    "\n",
    "**Likelihood** is a tool for summarizing the data’s evidence about unknown parameters. The likelohood of a collection of data is the joint density evaluated as a function of the unknown parameters with the data fixed.\n",
    "\n",
    "Given a statistical probability mass function or density, say $f(x,\\theta)$, where $\\theta$ is unkown parameter, the likelihood $L$ is $f$ viewed as a function of $\\theta$ for a fixed observed values of $x$.\n",
    "\n",
    "Example:\n",
    "\n",
    "We have a coin chance of getting heads $\\theta$ which falls under binomial distribution.\n",
    "\\begin{align}\n",
    "f(x,\\theta) = \\theta^x(1-\\theta)^{1-x}, \\theta \\in [0;1]\n",
    "\\end{align}\n",
    "\n",
    "$x$ is either tails (0) or heads (1). We flip a coin and the result was heads (1). The likelihood is:\n",
    "\\begin{align}\n",
    "L(\\theta,1) = \\theta^1(1-\\theta)^{1-1}, \\theta \\in [0;1]\n",
    "\\end{align}\n",
    "Now we want to find likelihood that our coin is fair ($\\theta=.5$) vs coin is unfair (say, $\\theta=.25$).\n",
    "\\begin{align}\n",
    "\\frac{L(0.5,1)}{L(0.25,1)}=\\frac{1/2}{1/4}=2\n",
    "\\end{align}\n",
    "Conclusion - there os twice as much evidence supporting the hypothesis that coin is fair ($\\theta=.5$) to the hypothesis that coin is unfair ($\\theta=.25$)."
   ]
  },
  {
   "cell_type": "markdown",
   "metadata": {},
   "source": [
    "## <a id='appr'>Approximation results and confidence intervals</a> \n",
    "\n",
    "### <a id='lln'>Law of Large Numbers</a> \n",
    "\n",
    ">In probability theory, the **law of large numbers (LLN)** is a theorem that describes the result of performing the same experiment a large number of times. According to the law, the average of the results obtained from a large number of trials should be close to the expected value, and will tend to become closer as more trials are performed.\n",
    "\n",
    "> *Source: [Wikipedia](https://en.wikipedia.org/wiki/Law_of_large_numbers)*\n",
    "\n",
    "Imagine we are running an experiment to check the ratio of people with and w/o **Hypertension**. We assume that ratio from this dataset is true ratio of population. Then we take the sample of Hypertension results and check whether the difference between ratio of the sample and ratio of population is going to zero after bigger sample size."
   ]
  },
  {
   "cell_type": "code",
   "execution_count": 2,
   "metadata": {},
   "outputs": [
    {
     "name": "stdout",
     "output_type": "stream",
     "text": [
      "[1] \"Ratio of people with Hypertension in population: 0.088\"\n"
     ]
    }
   ],
   "source": [
    "print(paste0(\"Ratio of people with Hypertension in population: \", round(mean(Stroke_Data$hypertension == 1),3)))"
   ]
  },
  {
   "cell_type": "code",
   "execution_count": 3,
   "metadata": {},
   "outputs": [
    {
     "data": {
      "image/png": "[encoded data removed]",
      "text/plain": [
       "plot without title"
      ]
     },
     "metadata": {},
     "output_type": "display_data"
    }
   ],
   "source": [
    "n <- 500 # size of the samples\n",
    "\n",
    "# covert hypertension column to string on (0,1 integers)\n",
    "hypertension  <- as.numeric(levels(Stroke_Data$hypertension))[Stroke_Data$hypertension]\n",
    "\n",
    "avg_value <- mean(hypertension)\n",
    "\n",
    "# taking three random sample n-size each\n",
    "x1 = sample(hypertension, size = n, replace = F)\n",
    "x2 = sample(hypertension, size = n, replace = F)\n",
    "x3 = sample(hypertension, size = n, replace = F)\n",
    "\n",
    "# creating three vectors that will hold information about ratio for each size of sample (from 1 to n)\n",
    "xbar1 = rep(0,length(x1))\n",
    "xbar2 = rep(0,length(x2))\n",
    "xbar3 = rep(0,length(x3))\n",
    "\n",
    "for (i in 1:length(x1)) {\n",
    "    xbar1[i] = mean(x1[1:i])\n",
    "    xbar2[i] = mean(x2[1:i])\n",
    "    xbar3[i] = mean(x3[1:i])\n",
    "}\n",
    "\n",
    "plot(1:n, xbar1-avg_value, type=\"l\", col=\"red\", lwd=1, ylim=c(-0.1,0.2),\n",
    "     xlab=\"Number of subjects sampled\",\n",
    "     ylab=\"Distance to the mean\")\n",
    "lines(1:n, xbar2-avg_value, col=\"blue\", lwd=1)\n",
    "lines(1:n, xbar3-avg_value, col=\"orange\", lwd=1)\n",
    "lines(1:n, rep(0,n), lwd=3)"
   ]
  },
  {
   "cell_type": "markdown",
   "metadata": {},
   "source": [
    "We can see, that the higher the number of subjects in our samples, the more likely mean of the sample is going to equal to the mean of population.\n",
    "\n",
    "The **law of large numbers** will establish that as *n* increases the averages are close to the target, while the\n",
    "**central limit theorem** will say how close and with what probability are the results of the experiment to the\n",
    "true target.\n",
    "\n",
    "### <a id='clt'>Central Limit Theorem</a> \n",
    "\n",
    "> The **Central Limit Theorem** states that the sampling distribution of the sample means approaches a normal distribution as the sample size gets larger — no matter what the shape of the population distribution. This fact holds especially true for sample sizes over 30. All this is saying is that as you take more samples, especially large ones, your graph of the sample means will look more like a normal distribution.\n",
    "\n",
    "> *Source: [StatisticsHowTo](http://www.statisticshowto.com/probability-and-statistics/normal-distributions/central-limit-theorem-definition-examples/)*\n",
    "\n",
    "Let's look at the distribution of the **BMI** of people who never had a **stroke**."
   ]
  },
  {
   "cell_type": "code",
   "execution_count": 4,
   "metadata": {},
   "outputs": [
    {
     "name": "stdout",
     "output_type": "stream",
     "text": [
      "[1] \"Population mean: 28.6\"\n"
     ]
    },
    {
     "data": {
      "image/png": "[encoded data removed]",
      "text/plain": [
       "Plot with title \"Histogram of bmi\""
      ]
     },
     "metadata": {},
     "output_type": "display_data"
    }
   ],
   "source": [
    "bmi <- Stroke_Data$bmi[Stroke_Data$stroke == 0]\n",
    "hist(bmi, breaks=50, col=\"lightgreen\")\n",
    "print(paste0(\"Population mean: \", round(mean(bmi), 1)))"
   ]
  },
  {
   "cell_type": "code",
   "execution_count": 5,
   "metadata": {},
   "outputs": [
    {
     "name": "stdout",
     "output_type": "stream",
     "text": [
      "[1] \"Sample mean: 30\"\n"
     ]
    },
    {
     "data": {
      "image/png": "[encoded data removed]",
      "text/plain": [
       "Plot with title \"Histogram of sample means (sample size = 30)\""
      ]
     },
     "metadata": {},
     "output_type": "display_data"
    }
   ],
   "source": [
    "n = 30\n",
    "sample = sample(bmi, size = n, replace = F)\n",
    "xbar = rep(0,length(sample))\n",
    "\n",
    "for (i in 1:length(sample)) {\n",
    "    xbar[i] = mean(sample[1:i])\n",
    "}\n",
    "\n",
    "hist(xbar, breaks=50, col=\"orange\", main = \"Histogram of sample means (sample size = 30)\")\n",
    "print(paste0(\"Sample mean: \", round(mean(xbar), 1)))"
   ]
  },
  {
   "cell_type": "code",
   "execution_count": 6,
   "metadata": {},
   "outputs": [
    {
     "name": "stdout",
     "output_type": "stream",
     "text": [
      "[1] \"Sample mean: 29.8\"\n"
     ]
    },
    {
     "data": {
      "image/png": "[encoded data removed]",
      "text/plain": [
       "Plot with title \"Histogram of sample means (sample size = 300)\""
      ]
     },
     "metadata": {},
     "output_type": "display_data"
    }
   ],
   "source": [
    "n = 300\n",
    "sample = sample(bmi, size = n, replace = F)\n",
    "xbar = rep(0,length(sample))\n",
    "\n",
    "for (i in 1:length(sample)) {\n",
    "    xbar[i] = mean(sample[1:i])\n",
    "}\n",
    "\n",
    "hist(xbar, breaks=50, col=\"orange\", main = \"Histogram of sample means (sample size = 300)\")\n",
    "print(paste0(\"Sample mean: \", round(mean(xbar), 1)))"
   ]
  },
  {
   "cell_type": "markdown",
   "metadata": {},
   "source": [
    "So we could see that distribution of sample means was more likely to look like normal as sample size was increasing."
   ]
  },
  {
   "cell_type": "markdown",
   "metadata": {},
   "source": [
    "### <a id='ci'>Confidence Intervals</a> \n",
    "\n",
    "> A **confidence interval** is how much uncertainty there is with any particular statistic. Confidence intervals are often used with a margin of error. It tells you how confident you can be that the results from a poll or survey reflect what you would expect to find if it were possible to survey the entire population.\n",
    "\n",
    "> *Source: [StatisticsHowTo](http://www.statisticshowto.com/probability-and-statistics/confidence-interval/)*\n",
    "\n",
    "The probability that the random interval $X_n \\pm Z_{1-\\frac{\\alpha}{2}}\\frac{\\sigma}{\\sqrt{n}}$ contains $\\mu$ is approximately 95%, where $Z_{1-\\frac{\\alpha}{2}}$ is the $(1-\\frac{\\alpha}{2})$ quantile of the standard normal distribution ($\\mu=0, \\sigma = 1$). This is called 95% CI for $\\mu$.\n",
    "\n",
    "Let's look at example from ideal world where we know the population distribution:"
   ]
  },
  {
   "cell_type": "code",
   "execution_count": 7,
   "metadata": {},
   "outputs": [
    {
     "name": "stdout",
     "output_type": "stream",
     "text": [
      "[1] \"Population mean: 9.9\"\n",
      "[1] \"Population standard error: 4.9\"\n"
     ]
    },
    {
     "data": {
      "image/png": "[encoded data removed]",
      "text/plain": [
       "Plot with title \"Histogram of population\""
      ]
     },
     "metadata": {},
     "output_type": "display_data"
    }
   ],
   "source": [
    "population <- rnorm(5000, 10, 5)\n",
    "hist(population, breaks = 25, col=\"lightgreen\")\n",
    "print(paste0(\"Population mean: \", round(mean(population), 1)))\n",
    "print(paste0(\"Population standard error: \", round(sd(population), 1)))"
   ]
  },
  {
   "cell_type": "code",
   "execution_count": 8,
   "metadata": {},
   "outputs": [
    {
     "name": "stdout",
     "output_type": "stream",
     "text": [
      "[1] \"Sample mean: 9.9\"\n",
      "[1] \"Sample standard error: 5.1\"\n"
     ]
    }
   ],
   "source": [
    "n=250\n",
    "sample <- sample(population, size=n, replace = F)\n",
    "print(paste0(\"Sample mean: \", round(mean(sample), 1)))\n",
    "print(paste0(\"Sample standard error: \", round(sd(sample), 1)))"
   ]
  },
  {
   "cell_type": "code",
   "execution_count": 9,
   "metadata": {},
   "outputs": [
    {
     "name": "stdout",
     "output_type": "stream",
     "text": [
      "[1] \"With 95% confidence we can say that population mean is in interval [9.2; 10.5]\"\n"
     ]
    },
    {
     "data": {
      "image/png": "[encoded data removed]",
      "text/plain": [
       "Plot with title \"Histogram of sample\""
      ]
     },
     "metadata": {},
     "output_type": "display_data"
    }
   ],
   "source": [
    "# caclulation 95% CI\n",
    "alpha = 0.05\n",
    "quant <- 1 - alpha/2\n",
    "Z_score <- qnorm(quant, lower.tail=TRUE)\n",
    "lower <- mean(sample) - Z_score * sd(population) / sqrt(n)\n",
    "upper <- mean(sample) + Z_score * sd(population) / sqrt(n)\n",
    "\n",
    "hist(sample, breaks = 25, col=\"orange\")\n",
    "abline(v=lower, lwd = 3)\n",
    "abline(v=upper, lwd = 3)\n",
    "print(paste0(\"With 95% confidence we can say that population mean is in interval [\", round(lower,1), \"; \", round(upper,1), \"]\"))"
   ]
  },
  {
   "cell_type": "markdown",
   "metadata": {},
   "source": [
    "But, as said before, we usually don't know the distribution of population. In this case we must rely on sample standard deviations and **T-scores**. T-scores come from T-distributions, which help us account for error that occurs when we sample from a population. We use a different T-distribution to calculate cumulative probabilites depending on our degrees of freedom.\n",
    "\n",
    "**Confidence interval for the mean using t-distribution:**\n",
    "\\begin{align}\n",
    "\\bar{X} \\pm t_{n-1,1-\\frac{\\alpha}{2}}\\frac{s}{\\sqrt{n}}\n",
    "\\end{align}\n",
    "\n",
    "$(n-1)$ - degrees of freedom, $n$ - sample size.\n",
    "\n",
    "*Note that if we don't know real value of population standard error, we use sample st.error.*\n",
    "\n",
    "Let's come back to our dataset and find the confidence interval for the mean value of **BMI** for the whole population based on our sample (*sample = dataset itself*)."
   ]
  },
  {
   "cell_type": "code",
   "execution_count": 10,
   "metadata": {},
   "outputs": [
    {
     "name": "stdout",
     "output_type": "stream",
     "text": [
      "[1] \"With 95% confidence we can say that population mean is in interval [28.5; 28.7]\"\n"
     ]
    },
    {
     "data": {
      "image/png": "[encoded data removed]",
      "text/plain": [
       "Plot with title \"Histogram of bmi\""
      ]
     },
     "metadata": {},
     "output_type": "display_data"
    }
   ],
   "source": [
    "bmi <- Stroke_Data$bmi\n",
    "X_bar <- mean(bmi)\n",
    "s <- sd(bmi)\n",
    "n <- length(bmi)\n",
    "alpha = 0.05\n",
    "t_score <- qt(1-alpha/2, n-1)\n",
    "\n",
    "lower <- X_bar - t_score * s / sqrt(n)\n",
    "upper <- X_bar + t_score * s / sqrt(n)\n",
    "\n",
    "hist(bmi, breaks = 25, col=\"orange\")\n",
    "abline(v=lower, lwd = 3)\n",
    "abline(v=upper, lwd = 3)\n",
    "print(paste0(\"With 95% confidence we can say that population mean is in interval [\", round(lower,1), \"; \", round(upper,1), \"]\"))"
   ]
  },
  {
   "cell_type": "markdown",
   "metadata": {},
   "source": [
    "Note how narrow the CI is. This is due the large sample size (almost 42k). Look what will happen if we had much smaller sample:"
   ]
  },
  {
   "cell_type": "code",
   "execution_count": 11,
   "metadata": {},
   "outputs": [
    {
     "name": "stdout",
     "output_type": "stream",
     "text": [
      "[1] \"With 95% confidence we can say that population mean is in interval [28.9; 32]\"\n"
     ]
    },
    {
     "data": {
      "image/png": "[encoded data removed]",
      "text/plain": [
       "Plot with title \"Histogram of bmi\""
      ]
     },
     "metadata": {},
     "output_type": "display_data"
    }
   ],
   "source": [
    "bmi <- Stroke_Data$bmi\n",
    "bmi <- sample(bmi, size = 100, replace = F) # keep just 100 observations\n",
    "X_bar <- mean(bmi)\n",
    "sigma <- sd(bmi)\n",
    "n <- length(bmi)\n",
    "alpha = 0.05\n",
    "t_score <- qt(1-alpha/2, n-1)\n",
    "\n",
    "lower <- X_bar - t_score * sigma / sqrt(n)\n",
    "upper <- X_bar + t_score * sigma / sqrt(n)\n",
    "\n",
    "hist(bmi, breaks = 25, col=\"orange\")\n",
    "abline(v=lower, lwd = 3)\n",
    "abline(v=upper, lwd = 3)\n",
    "print(paste0(\"With 95% confidence we can say that population mean is in interval [\", round(lower,1), \"; \", round(upper,1), \"]\"))"
   ]
  },
  {
   "cell_type": "markdown",
   "metadata": {},
   "source": [
    "#### Couple of words about t-distribution\n",
    "\n",
    "> The **T distribution** (also called Student’s T Distribution) is a family of distributions that look almost identical to the normal distribution curve, only a bit shorter and fatter. The t distribution is used instead of the normal distribution when you have small samples (n < 30). The larger the sample size, the more the t distribution looks like the normal distribution. \n",
    "\n",
    "> *Source: [StatisticsHowTo](http://www.statisticshowto.com/probability-and-statistics/t-distribution/)*\n",
    "\n",
    "![](https://i2.wp.com/www.real-statistics.com/wp-content/uploads/2012/11/t-distribution-chart.png?resize=439%2C264)"
   ]
  },
  {
   "cell_type": "markdown",
   "metadata": {},
   "source": [
    "## <a id='tnf'><i>t</i> and F tests</a>\n",
    "\n",
    "In this part we will look at how we can compare independent groups (for example, .\n",
    "\n",
    "### <a id='ttest'>Introduction to <i>t</i>-test and confidence intervals</a>\n",
    "\n",
    ">The **t-test** (also called **Student’s T-Test**) compares two averages (means) and tells you if they are different from each other. The t-test also tells you how significant the differences are; In other words it lets you know if those differences could have happened by chance.\n",
    "\n",
    ">*Source: [Statistics How To](http://www.statisticshowto.com/probability-and-statistics/t-test/)*\n",
    "\n",
    "Assume we have two sets of iid random variables:\n",
    "\n",
    "$X_1,...,X_n \\sim N(\\mu_x, \\sigma^2)$;\n",
    "\n",
    "$Y_1,...,Y_n \\sim N(\\mu_y, \\sigma^2)$.\n",
    "\n",
    "$100(1-\\alpha$)% CI for the difference between means of this two sets is:\n",
    "\n",
    "\\begin{gather}\n",
    "\\bar{X} - \\bar{Y} \\pm t_{n_X+n_Y-2, 1-\\frac{\\alpha}{2}} S_{n, pooled}(\\frac{1}{n_X} + \\frac{1}{n_Y})^\\frac{1}{2} \\\\\n",
    "S^2_{n, pooled} = \\frac{(n_X-1)\\sigma^2 + (n_Y-1)\\sigma^2}{n_X + n_Y - 2}\n",
    "\\end{gather}\n",
    "\n",
    "$S^2_{n, pooled}$ - pooled variance estimator, mixture of the group variances, placing greater weight on whichever has a larger sample size.\n",
    "\n",
    "If $\\sigma^2_X \\neq \\sigma^2_Y$, then:\n",
    "\\begin{gather}\n",
    "\\bar{X} - \\bar{Y} \\pm t_{n_X+n_Y-2, 1-\\frac{\\alpha}{2}} (\\frac{S^2_X}{n_X} + \\frac{S^2_Y}{n_Y})^\\frac{1}{2} \\\\\n",
    "\\end{gather}"
   ]
  },
  {
   "cell_type": "markdown",
   "metadata": {},
   "source": [
    "Let's assume that we want to check whether the difference in age for people who had stroke and who didn't is significant. To do that we can run a **t-test** to find out. First, lets visually inspect the distribution of **Age** by **Stroke** outcome."
   ]
  },
  {
   "cell_type": "code",
   "execution_count": 12,
   "metadata": {},
   "outputs": [
    {
     "data": {
      "text/html": [
       "<table>\n",
       "<thead><tr><th scope=col>group</th><th scope=col>count</th><th scope=col>mean</th><th scope=col>variance</th></tr></thead>\n",
       "<tbody>\n",
       "\t<tr><td>No Stroke</td><td>41288    </td><td>41       </td><td>499.90   </td></tr>\n",
       "\t<tr><td>Stroke   </td><td>  643    </td><td>68       </td><td>147.97   </td></tr>\n",
       "</tbody>\n",
       "</table>\n"
      ],
      "text/latex": [
       "\\begin{tabular}{r|llll}\n",
       " group & count & mean & variance\\\\\n",
       "\\hline\n",
       "\t No Stroke & 41288     & 41        & 499.90   \\\\\n",
       "\t Stroke    &   643     & 68        & 147.97   \\\\\n",
       "\\end{tabular}\n"
      ],
      "text/markdown": [
       "\n",
       "group | count | mean | variance | \n",
       "|---|---|\n",
       "| No Stroke | 41288     | 41        | 499.90    | \n",
       "| Stroke    |   643     | 68        | 147.97    | \n",
       "\n",
       "\n"
      ],
      "text/plain": [
       "  group     count mean variance\n",
       "1 No Stroke 41288 41   499.90  \n",
       "2 Stroke      643 68   147.97  "
      ]
     },
     "metadata": {},
     "output_type": "display_data"
    }
   ],
   "source": [
    "Stroke_Data %>%\n",
    "    mutate(group = case_when(\n",
    "        (stroke == 1) ~ \"Stroke\",\n",
    "        (stroke == 0) ~ \"No Stroke\")) %>%\n",
    "    group_by(group) %>%\n",
    "    summarise(count = length(age),\n",
    "              mean = round(mean(age)),\n",
    "              variance = round(var(age),2))"
   ]
  },
  {
   "cell_type": "markdown",
   "metadata": {},
   "source": [
    "What we can see is that average age for having a stroke is much higher (which should not come as a big surprise). If we compare the average values of two groups we will get: \n",
    "\\begin{align} \n",
    "\\bar{X_1}- \\bar{X_2} = 41 - 68 = -27 \n",
    "\\end{align}\n",
    "\n",
    "Our hypothesis for **t-test** look like this:\n",
    "\n",
    "* $H_0$: there is no difference in mean between two groups. $\\mu_0 = \\mu_1$\n",
    "\n",
    "* $H_1$: there is a difference in mean between two groups. $\\mu_0 \\neq \\mu_1$"
   ]
  },
  {
   "cell_type": "code",
   "execution_count": 13,
   "metadata": {},
   "outputs": [
    {
     "name": "stdout",
     "output_type": "stream",
     "text": [
      "[1] \"95% of Confidence interval is [-27.99; -26.07].\"\n"
     ]
    }
   ],
   "source": [
    "# sample size\n",
    "n_1 <- length(Stroke_Data$age[Stroke_Data$stroke == 0])\n",
    "n_2 <- length(Stroke_Data$age[Stroke_Data$stroke == 1])\n",
    "# sample mean\n",
    "X_1_bar <- mean(Stroke_Data$age[Stroke_Data$stroke == 0])\n",
    "X_2_bar <- mean(Stroke_Data$age[Stroke_Data$stroke == 1])\n",
    "# sample variance\n",
    "S_1 <- var(Stroke_Data$age[Stroke_Data$stroke == 0])\n",
    "S_2 <- var(Stroke_Data$age[Stroke_Data$stroke == 1])\n",
    "\n",
    "diff <- X_1_bar - X_2_bar\n",
    "SE <- sqrt(S_1/n_1 + S_2/n_2)\n",
    "alpha = 0.05\n",
    "t <- qt((1-alpha/2), df=n_1+n_2-2) # t-score\n",
    "\n",
    "print(paste0(\"95% of Confidence interval is [\", round(diff-t*SE,2), \"; \", round(diff+t*SE,2), \"].\"))"
   ]
  },
  {
   "cell_type": "markdown",
   "metadata": {},
   "source": [
    "Confidence interval of mean differences is $(-28; -26)$. This does not include 0, so we **reject** null hypothesis and we say that there is a significance difference between group means with confidence level of 95%. In other words, **we are 95% confident that stroke is more likely to happen to older people**.\n",
    "\n",
    "Also, we could just run `t.test` function which is built in in R and find out if our difference in means can be considered as significant or it's just a random chance. We can not use paired t-test vecause our groups have different sample size, so we have to set `paired = FALSE` (which comes as default). Another parameter `var.equal` should be also set to `FALSE` since variances between groups are not equal. "
   ]
  },
  {
   "cell_type": "code",
   "execution_count": 14,
   "metadata": {},
   "outputs": [
    {
     "data": {
      "text/plain": [
       "\n",
       "\tWelch Two Sample t-test\n",
       "\n",
       "data:  age by stroke\n",
       "t = -54.922, df = 711.3, p-value < 2.2e-16\n",
       "alternative hypothesis: true difference in means is not equal to 0\n",
       "95 percent confidence interval:\n",
       " -27.99661 -26.06408\n",
       "sample estimates:\n",
       "mean in group 0 mean in group 1 \n",
       "       41.42688        68.45723 \n"
      ]
     },
     "metadata": {},
     "output_type": "display_data"
    }
   ],
   "source": [
    "t.test(age~stroke, \n",
    "       data=Stroke_Data,\n",
    "       var.equal = FALSE,\n",
    "       paired = FALSE,      \n",
    "       conf.level = 0.95)"
   ]
  },
  {
   "cell_type": "markdown",
   "metadata": {},
   "source": [
    "This may seems unclear - we had two samples, calculated the difference of their averages. This difference was far away from 0, so why did we still have to run t-test to check fot significance? The answer is that the size of confidence interval depends on the sample size (the higher observations we have the more confident we can be). Let's run an another example with less amount of observations."
   ]
  },
  {
   "cell_type": "code",
   "execution_count": 15,
   "metadata": {},
   "outputs": [
    {
     "data": {
      "text/html": [
       "<table>\n",
       "<thead><tr><th scope=col>stroke</th><th scope=col>count</th><th scope=col>mean_age</th><th scope=col>variance</th></tr></thead>\n",
       "<tbody>\n",
       "\t<tr><td>0     </td><td>25    </td><td>49    </td><td>509.62</td></tr>\n",
       "\t<tr><td>1     </td><td>25    </td><td>40    </td><td>497.96</td></tr>\n",
       "</tbody>\n",
       "</table>\n"
      ],
      "text/latex": [
       "\\begin{tabular}{r|llll}\n",
       " stroke & count & mean\\_age & variance\\\\\n",
       "\\hline\n",
       "\t 0      & 25     & 49     & 509.62\\\\\n",
       "\t 1      & 25     & 40     & 497.96\\\\\n",
       "\\end{tabular}\n"
      ],
      "text/markdown": [
       "\n",
       "stroke | count | mean_age | variance | \n",
       "|---|---|\n",
       "| 0      | 25     | 49     | 509.62 | \n",
       "| 1      | 25     | 40     | 497.96 | \n",
       "\n",
       "\n"
      ],
      "text/plain": [
       "  stroke count mean_age variance\n",
       "1 0      25    49       509.62  \n",
       "2 1      25    40       497.96  "
      ]
     },
     "metadata": {},
     "output_type": "display_data"
    }
   ],
   "source": [
    "example <- Stroke_Data %>%\n",
    "    select(stroke, age) \n",
    "\n",
    "#I will fill out data frame with unreal values just for example\n",
    "example  <- example[1:50,]\n",
    "example$stroke[1:25]  <- 0\n",
    "example$stroke[26:50] <- 1\n",
    "\n",
    "example %>% group_by(stroke) %>%\n",
    "    summarise(count = length(age),\n",
    "              mean_age = round(mean(age)),\n",
    "              variance = round(var(age),2))"
   ]
  },
  {
   "cell_type": "code",
   "execution_count": 16,
   "metadata": {},
   "outputs": [
    {
     "data": {
      "text/plain": [
       "\n",
       "\tWelch Two Sample t-test\n",
       "\n",
       "data:  age by stroke\n",
       "t = 1.3799, df = 47.994, p-value = 0.174\n",
       "alternative hypothesis: true difference in means is not equal to 0\n",
       "95 percent confidence interval:\n",
       " -4.00454 21.52454\n",
       "sample estimates:\n",
       "mean in group 0 mean in group 1 \n",
       "          49.04           40.28 \n"
      ]
     },
     "metadata": {},
     "output_type": "display_data"
    }
   ],
   "source": [
    "t.test(age~stroke, \n",
    "       data=example,\n",
    "       var.equal = FALSE,\n",
    "       paired = FALSE,      \n",
    "       conf.level = 0.95)"
   ]
  },
  {
   "cell_type": "markdown",
   "metadata": {},
   "source": [
    "In this case difference was 9, which also can be considered as \"away from zero\", but confidence interval is too wide [-4; 21]. It includes 0 value, so we can not be so sure, that Age is not related to Stroke outcome based on this sample."
   ]
  },
  {
   "cell_type": "markdown",
   "metadata": {
    "collapsed": true
   },
   "source": [
    "### <a id='ftest'>F test</a>\n",
    "\n",
    "It cab be a difficult task to assume wether the variances between two groups are different or not. We need to provide evidence against the assumption that the true variances are equal. And to do this we need to obtain the distribution of the ratio of variances in group 1 and 2: $\\sigma^2_1/\\sigma^2_2$.\n",
    "\n",
    "we always test that the population variances are equal when running an F Test. In other words, we always assume that the variances are equal to 1. Therefore, null hypothesis will always be that the variances are equal.\n",
    "\n",
    "Test statistic: $F=\\frac{\\sigma^2_1}{\\sigma^2_2}$.\n",
    "\n",
    "The hypothesis that the two variances are equal is rejected if:\n",
    "\n",
    "One-tailed test ($> or <$):\n",
    "\n",
    "\\begin{gather}\n",
    "F > F_{\\alpha,n_1-1,n_2-1} \\\\\n",
    "F < F_{1- \\alpha,n_1-1,n_2-1}\n",
    "\\end{gather}\n",
    "\n",
    "Two-tailored test ($\\neq$):\n",
    "\n",
    "\\begin{gather}\n",
    "F > F_{\\alpha/2,n_1-1,n_2-1} \\\\\n",
    "F < F_{1- \\alpha/2,n_1-1,n_2-1}\n",
    "\\end{gather}\n",
    "\n",
    "where $F_{\\alpha,n_1-1,n_2-1}$ is the critical value of the $F$ distribution with $(n_1-1)$ and $(n_2-1)$ degrees of freedom and a significance level of $\\alpha$.\n",
    "\n",
    "Let's look back at our example with the distribution of **Age** by **Stroke** outcome:"
   ]
  },
  {
   "cell_type": "code",
   "execution_count": 17,
   "metadata": {},
   "outputs": [
    {
     "data": {
      "text/html": [
       "<table>\n",
       "<thead><tr><th scope=col>group</th><th scope=col>count</th><th scope=col>variance</th></tr></thead>\n",
       "<tbody>\n",
       "\t<tr><td>No Stroke</td><td>41288    </td><td>499.90   </td></tr>\n",
       "\t<tr><td>Stroke   </td><td>  643    </td><td>147.97   </td></tr>\n",
       "</tbody>\n",
       "</table>\n"
      ],
      "text/latex": [
       "\\begin{tabular}{r|lll}\n",
       " group & count & variance\\\\\n",
       "\\hline\n",
       "\t No Stroke & 41288     & 499.90   \\\\\n",
       "\t Stroke    &   643     & 147.97   \\\\\n",
       "\\end{tabular}\n"
      ],
      "text/markdown": [
       "\n",
       "group | count | variance | \n",
       "|---|---|\n",
       "| No Stroke | 41288     | 499.90    | \n",
       "| Stroke    |   643     | 147.97    | \n",
       "\n",
       "\n"
      ],
      "text/plain": [
       "  group     count variance\n",
       "1 No Stroke 41288 499.90  \n",
       "2 Stroke      643 147.97  "
      ]
     },
     "metadata": {},
     "output_type": "display_data"
    }
   ],
   "source": [
    "Stroke_Data %>%\n",
    "    mutate(group = case_when(\n",
    "        (stroke == 1) ~ \"Stroke\",\n",
    "        (stroke == 0) ~ \"No Stroke\")) %>%\n",
    "    group_by(group) %>%\n",
    "    summarise(count = length(age),\n",
    "              variance = round(var(age),2))"
   ]
  },
  {
   "cell_type": "code",
   "execution_count": 18,
   "metadata": {},
   "outputs": [
    {
     "name": "stdout",
     "output_type": "stream",
     "text": [
      "[1] \"Test statistic (ratio of variances): 3.38\"\n"
     ]
    }
   ],
   "source": [
    "# caclulate the ratio of variances\n",
    "F <- var(Stroke_Data$age[Stroke_Data$stroke == 0]) / var(Stroke_Data$age[Stroke_Data$stroke == 1])\n",
    "print(paste0(\"Test statistic (ratio of variances): \", round(F,2)))"
   ]
  },
  {
   "cell_type": "code",
   "execution_count": 19,
   "metadata": {},
   "outputs": [
    {
     "data": {
      "text/html": [
       "<ol class=list-inline>\n",
       "\t<li>0.89</li>\n",
       "\t<li>1.11</li>\n",
       "</ol>\n"
      ],
      "text/latex": [
       "\\begin{enumerate*}\n",
       "\\item 0.89\n",
       "\\item 1.11\n",
       "\\end{enumerate*}\n"
      ],
      "text/markdown": [
       "1. 0.89\n",
       "2. 1.11\n",
       "\n",
       "\n"
      ],
      "text/plain": [
       "[1] 0.89 1.11"
      ]
     },
     "metadata": {},
     "output_type": "display_data"
    }
   ],
   "source": [
    "# get the clitical values for the F distribution\n",
    "round(qf(c(0.025,0.975),643-1,41288-1),digits=2)"
   ]
  },
  {
   "cell_type": "markdown",
   "metadata": {},
   "source": [
    "\\begin{gather}\n",
    "F=3.38 > F_{1-\\alpha/2,n_1-1,n_2-1}=1.11\n",
    "\\end{gather}\n",
    "\n",
    "So we can reject the null hypothesis that the variances between two groups are equal.\n",
    "\n",
    "We can build the 95% confidence interval for the ratio of variances:\n",
    "\\begin{gather}\n",
    "\\frac{S^2_1/S^2_2}{F_{1-\\alpha/2,n_1-1,n_2-1}} < \\frac{\\sigma^2_1}{\\sigma^2_1} < \\frac{S^2_1/S^2_2}{F_{\\alpha/2,n_1-1,n_2-1}}\n",
    "\\end{gather}"
   ]
  },
  {
   "cell_type": "code",
   "execution_count": 20,
   "metadata": {},
   "outputs": [
    {
     "name": "stdout",
     "output_type": "stream",
     "text": [
      "[1] \"95% of Confidence interval is [3.03; 3.78].\"\n"
     ]
    }
   ],
   "source": [
    "lower <- F/qf(c(0.025,0.975),643-1,41288-1)[2]\n",
    "upper <- F/qf(c(0.025,0.975),643-1,41288-1)[1]\n",
    "\n",
    "print(paste0(\"95% of Confidence interval is [\", round(lower,2), \"; \", round(upper,2), \"].\"))"
   ]
  },
  {
   "cell_type": "markdown",
   "metadata": {},
   "source": [
    "And again, interval does not include **1** so we can reject the null hypothesis.\n",
    "\n",
    "There is a built-in function in R which can compute F-statistic and confidence intervals: `var.test`"
   ]
  },
  {
   "cell_type": "code",
   "execution_count": 21,
   "metadata": {
    "scrolled": true
   },
   "outputs": [
    {
     "data": {
      "text/plain": [
       "\n",
       "\tF test to compare two variances\n",
       "\n",
       "data:  age by stroke\n",
       "F = 3.3785, num df = 41287, denom df = 642, p-value < 2.2e-16\n",
       "alternative hypothesis: true ratio of variances is not equal to 1\n",
       "95 percent confidence interval:\n",
       " 3.016555 3.761306\n",
       "sample estimates:\n",
       "ratio of variances \n",
       "           3.37849 \n"
      ]
     },
     "metadata": {},
     "output_type": "display_data"
    }
   ],
   "source": [
    "var.test(age~stroke, data = Stroke_Data)"
   ]
  },
  {
   "cell_type": "markdown",
   "metadata": {},
   "source": [
    "## <a id='rsmpl'>Data Resampling</a>\n",
    "\n",
    "Unfortunately, sometimes the size of your sample is not big enough to make proper judgments about the population. In this case resampling methods become useful. **Re-sampling methods** (like jackknife, bootstrapping, permutation testing) help to get approximate view of population, confidence intervals and standard errors. The main idea is repeatedly creating new samples from original sample with replacements. \n",
    "\n",
    "### <a id='jk'>Jackknife</a>\n",
    "\n",
    "**The Jackknife** deletes each observation and calculates an estimate base on the remaining $(n-1)$ of them. It uses this collection of estimates to do things like estimate the bias and the st.error.\n",
    "\n",
    "*Note that estimating the bias and having a st.error are not needed for things like sample means, which we know are unbiased estimates of population means.*\n",
    "\n",
    "Looking back on **BMI** distribution from out dataset:"
   ]
  },
  {
   "cell_type": "code",
   "execution_count": 22,
   "metadata": {},
   "outputs": [
    {
     "data": {
      "text/plain": [
       "$jack.se\n",
       "[1] 8.212927\n",
       "\n",
       "$jack.bias\n",
       "[1] -0.6205098\n",
       "\n",
       "$jack.values\n",
       "  [1] 61.79947 61.05804 61.51247 61.90635 61.54171 61.93060 60.44014 60.47330\n",
       "  [9] 61.97852 61.89300 62.01550 61.06407 61.94222 62.04006 61.96129 62.05071\n",
       " [17] 61.83836 60.49857 60.76310 60.25566 61.84115 61.71188 62.00873 59.62022\n",
       " [25] 59.52481 59.70452 60.22848 60.11776 62.04963 59.68281 62.02600 61.84115\n",
       " [33] 62.02270 61.65051 61.87399 61.81932 60.51614 61.99392 61.29021 61.43579\n",
       " [41] 61.99049 61.70002 61.37577 62.04647 61.30250 60.36230 61.91394 59.48290\n",
       " [49] 61.82223 57.91449 61.31987 61.21810 59.89543 62.03542 61.92349 61.39226\n",
       " [57] 62.03542 62.04878 61.58817 61.72355 61.67567 62.00316 60.75622 62.00002\n",
       " [65] 61.11752 62.04006 62.04963 62.03784 61.82223 62.02600 61.75731 61.89300\n",
       " [73] 61.92131 61.57433 61.94878 61.39226 60.93359 62.05071 61.92349 60.99673\n",
       " [81] 62.03784 61.28492 62.05027 62.00002 61.79233 61.72701 61.40856 61.90865\n",
       " [89] 62.02270 61.73840 61.50204 58.91379 62.05094 61.98899 62.04335 61.64151\n",
       " [97] 59.58862 62.03280 61.74626 62.00748\n",
       "\n",
       "$call\n",
       "jackknife(x = bmi, theta = bias_var)\n"
      ]
     },
     "metadata": {},
     "output_type": "display_data"
    }
   ],
   "source": [
    "n = length(bmi)\n",
    "# function for biased version of variance\n",
    "bias_var = function(x) {\n",
    "    n = length(x)\n",
    "    (n - 1) * var(x) / n\n",
    "}\n",
    "\n",
    "# run jackknife function from bootstrap package\n",
    "jackknife(bmi, bias_var)"
   ]
  },
  {
   "cell_type": "markdown",
   "metadata": {},
   "source": [
    "### <a id='boot'>Bootstrapping</a>\n",
    "\n",
    "> In statistics, **bootstrapping** is any test or metric that relies on random sampling with replacement. Bootstrapping allows assigning measures of accuracy (defined in terms of bias, variance, confidence intervals, prediction error or some other such measure) to sample estimates. This technique allows estimation of the sampling distribution of almost any statistic using random sampling methods.\n",
    "\n",
    "> *Source: [Wikipedia](https://en.wikipedia.org/wiki/Bootstrapping_(statistics)*\n",
    "\n",
    "And again, **BMI** distribution. We will assume that our distribution of BMI is true population distribution, that is why we know population mean and variance."
   ]
  },
  {
   "cell_type": "code",
   "execution_count": 23,
   "metadata": {},
   "outputs": [
    {
     "data": {
      "image/png": "[encoded data removed]",
      "text/plain": [
       "Plot with title \"\""
      ]
     },
     "metadata": {},
     "output_type": "display_data"
    }
   ],
   "source": [
    "pop_bmi <- Stroke_Data$bmi\n",
    "pop_mean <- median(bmi)\n",
    "hist(pop_bmi, col=\"lightgreen\", main=\"\")"
   ]
  },
  {
   "cell_type": "code",
   "execution_count": 24,
   "metadata": {},
   "outputs": [
    {
     "data": {
      "image/png": "[encoded data removed]",
      "text/plain": [
       "Plot with title \"\""
      ]
     },
     "metadata": {},
     "output_type": "display_data"
    }
   ],
   "source": [
    "n <- 500 # sample size\n",
    "no_sim <- 10000 # number of resamples\n",
    "sample_bmi <- sample(pop_bmi, n, replace = F)\n",
    "\n",
    "## sample no_simul resamples of size n with replacement\n",
    "## and put them in a matrix with no_simul rows and n columns\n",
    "## so that each row is a resampled data set\n",
    "bsResamples = matrix(sample(sample_bmi, n * no_sim, replace = TRUE), no_sim, n)\n",
    "\n",
    "par(mfcol = c(1, 2))\n",
    "## plot the histogram of the data\n",
    "hist(sample_bmi, probability=TRUE, col=\"orange\", breaks=10, xlab=\"BMI (sample)\", main=\"\")\n",
    "## plot a histogram of the resampled data\n",
    "hist(bsResamples, probability=TRUE, col=\"orange\", breaks=10, xlab=\"BMI (1000-resamples)\",main=\"\")"
   ]
  },
  {
   "cell_type": "markdown",
   "metadata": {},
   "source": [
    "Note that the both histograms look similar as they supposed to be, since the right histogram was effectively created by simulating from the left histogram. "
   ]
  },
  {
   "cell_type": "code",
   "execution_count": 25,
   "metadata": {},
   "outputs": [
    {
     "name": "stdout",
     "output_type": "stream",
     "text": [
      "[1] \"Standard Error: 0.346\"\n"
     ]
    },
    {
     "data": {
      "image/png": "[encoded data removed]",
      "text/plain": [
       "Plot with title \"\""
      ]
     },
     "metadata": {},
     "output_type": "display_data"
    }
   ],
   "source": [
    "## calculate the mean for each resampled data\n",
    "bsStat = rowMeans(bsResamples)\n",
    "\n",
    "## plot a histogram of our resampled statistics\n",
    "hist(bsStat, probability=TRUE, col=\"lightblue\", xlab=\"Mean of BMI resamples\", main=\"\")\n",
    "abline(v = pop_mean, col = \"red\", lwd = 2)\n",
    "abline(v = quantile(bsStat, c(.025, .975)), lwd = 3) # 95% CI\n",
    "print(paste0(\"Standard Error: \", round(sd(bsStat), 3)))"
   ]
  },
  {
   "cell_type": "markdown",
   "metadata": {},
   "source": [
    "**And of course there is a shortcut function to do compute bootstapping!**"
   ]
  },
  {
   "cell_type": "code",
   "execution_count": 26,
   "metadata": {},
   "outputs": [
    {
     "name": "stdout",
     "output_type": "stream",
     "text": [
      "[1] \"Standard Error: 0.343\"\n"
     ]
    },
    {
     "data": {
      "image/png": "[encoded data removed]",
      "text/plain": [
       "Plot with title \"\""
      ]
     },
     "metadata": {},
     "output_type": "display_data"
    }
   ],
   "source": [
    "BS <- bootstrap(x = sample_bmi, nboot = 10000, theta = mean)\n",
    "\n",
    "hist(BS$thetastar, probability=TRUE, col=\"lightblue\", xlab=\"Mean of BMI resamples\", main=\"\")\n",
    "abline(v = pop_mean, col = \"red\", lwd = 2)\n",
    "abline(v = quantile(BS$thetastar, c(.025, .975)), lwd = 3) # 95% CI\n",
    "print(paste0(\"Standard Error: \", round(sd(BS$thetastar), 3)))"
   ]
  },
  {
   "cell_type": "markdown",
   "metadata": {},
   "source": [
    "There are cases when re-sampling can give false results (not similar to population). For example, when the sample size is small or if sample data has some outliers. If we will rerun code over and over again we will see that mean of resampled proportions can vary significantly from mean of population.\n",
    "\n",
    "A quote from book **Methods in Biostatistics with R (Ciprian Crainiceanu, Brian Caffo, John Muschelli)**\n",
    "\n",
    "> The bootstrap uses the logic of the plugin principle to estimate population quantities without onerous\n",
    "mathematics. The bootstrap relies on a theoretical foundation that shows that this style of analysis works,\n",
    "*provided your n is large enough*. This latter point is important, as the bootstrap does not have finite sample\n",
    "guarantees. Many students ask “how many bootstrap samples are enough?”, which there is a definite, but\n",
    "unsatisfying answer. For each finite data set, there are n n enumerable bootstrap samples, but this means\n",
    "there are a billion bootstrap samples when *n* = 10! The answer generally given is to take as many bootstrap\n",
    "samples as you can, but commonly people take anywhere from 10,000 to 100,000 samples depending on the\n",
    "complexity of calculation of the statistic. These numbers vary greatly also depending on the problem so you\n",
    "should see how the variability of your statistic changes with the number of bootstrap samples."
   ]
  },
  {
   "cell_type": "markdown",
   "metadata": {},
   "source": [
    "## <a id='bii'>Intervals for Binomial Probabilities</a>\n",
    "\n",
    "Let's consider the estimation of the probability of success, $p$, from data $X \\sim Binomial(n, p)$, where $X$ is the number of successes obtained from $n$ trials, each with probability of success $p$.\n",
    "\n",
    "When $X \\sim Binomial(n, p)$ we know that:\n",
    "\n",
    "* $\\hat{p}=\\frac{X}{n}$ - is the maximum likelihood estimate (MLE) for $p$;\n",
    "\n",
    "* $E(\\hat{p})=p$;\n",
    "\n",
    "* $Var(\\hat{p})=\\frac{p(1-p)}{n}$;\n",
    "\n",
    "* $\\frac{\\hat{p}-p}{\\sqrt{\\hat{p}(1-\\hat{p})/n}}$ follows normal distribution for large number of $n$.\n",
    "\n",
    "Assuming that **Wald confidence interval for $p$**:\n",
    "\n",
    "\\begin{gather}\n",
    "\\hat{p} \\pm Z_{1-\\frac{\\alpha}{2}}\\sqrt{\\frac{\\hat{p}(1-\\hat{p})}{n}}\n",
    "\\end{gather}\n",
    "\n",
    "However, **Wald intervals** can perform badly. Coverage probability varies widly and when $p$ is small or large, coverage can be quite poor even for extremely large numbers of $n$. In practice, a good rule of thumb is that coverage probability and asymptotic approximations for the Binomial probability $p$ work in cases when $np(1 − p)\\geqslant5$.\n",
    "\n",
    "In practice one cannot always assume that $np(1 − p)$ is larger than 5 and one sometimes have to deal with smaller sample sizes, such as $n = 10$ or $20$. In this case, especially for $p$ close to zero or one, obtaining a confidence interval with the nominal coverage and length is a surprisingly hard problem. A simple fix in cases when $np(1 − p) < 5$ is to add two successes and two failures. That is, let $\\tilde{p} = (X + 2)/(n + 4)$ and $\\tilde{n} = n + 4$. Then the so-called **Agresti-Coull interval** is:\n",
    "\n",
    "\\begin{gather}\n",
    "\\tilde{p} \\pm Z_{1-\\frac{\\alpha}{2}}\\sqrt{\\frac{\\tilde{p}(1-\\tilde{p})}{\\tilde{n}}}\n",
    "\\end{gather}\n",
    "\n",
    "***\n",
    "Consider an example, where we have sample size of 50 people and we want to estimate the prevalence of hypertension in the population."
   ]
  },
  {
   "cell_type": "code",
   "execution_count": 50,
   "metadata": {},
   "outputs": [
    {
     "name": "stdout",
     "output_type": "stream",
     "text": [
      "[1] \"p-hat= 0.08\"\n",
      "[1] \"p-tilde= 0.11\"\n"
     ]
    }
   ],
   "source": [
    "n <- 50\n",
    "hypertension <- sample(Stroke_Data$hypertension, n)\n",
    "hyper_true <- length(hypertension[hypertension == 1])\n",
    "n_tilde <- n + 4\n",
    "p_hat <- hyper_true/n\n",
    "p_tilde = (hyper_true + 2) / n_tilde\n",
    "z = qnorm(c(0.025, 0.975))\n",
    "\n",
    "print(paste0(\"p-hat= \", round(p_hat,2)))\n",
    "print(paste0(\"p-tilde= \", round(p_tilde,2)))"
   ]
  },
  {
   "cell_type": "code",
   "execution_count": 51,
   "metadata": {},
   "outputs": [
    {
     "data": {
      "text/html": [
       "<ol class=list-inline>\n",
       "\t<li>0.005</li>\n",
       "\t<li>0.155</li>\n",
       "</ol>\n"
      ],
      "text/latex": [
       "\\begin{enumerate*}\n",
       "\\item 0.005\n",
       "\\item 0.155\n",
       "\\end{enumerate*}\n"
      ],
      "text/markdown": [
       "1. 0.005\n",
       "2. 0.155\n",
       "\n",
       "\n"
      ],
      "text/plain": [
       "[1] 0.005 0.155"
      ]
     },
     "metadata": {},
     "output_type": "display_data"
    }
   ],
   "source": [
    "# 95% Wald interval\n",
    "se_Wald = sqrt(p_hat * (1 - p_hat) / n)\n",
    "ci_Wald = round(p_hat + z * se_Wald, 3)\n",
    "ci_Wald"
   ]
  },
  {
   "cell_type": "code",
   "execution_count": 52,
   "metadata": {},
   "outputs": [
    {
     "data": {
      "text/html": [
       "<ol class=list-inline>\n",
       "\t<li>0.024</li>\n",
       "\t<li>0.198</li>\n",
       "</ol>\n"
      ],
      "text/latex": [
       "\\begin{enumerate*}\n",
       "\\item 0.024\n",
       "\\item 0.198\n",
       "\\end{enumerate*}\n"
      ],
      "text/markdown": [
       "1. 0.024\n",
       "2. 0.198\n",
       "\n",
       "\n"
      ],
      "text/plain": [
       "[1] 0.024 0.198"
      ]
     },
     "metadata": {},
     "output_type": "display_data"
    }
   ],
   "source": [
    "# 95% Agresti/Coull interval\n",
    "se_AC = sqrt(p_tilde * (1 - p_tilde) / n)\n",
    "ci_AC = round(p_tilde + z * se_AC, 3)\n",
    "ci_AC"
   ]
  },
  {
   "cell_type": "code",
   "execution_count": 55,
   "metadata": {},
   "outputs": [
    {
     "data": {
      "text/html": [
       "<table>\n",
       "<thead><tr><th scope=col>method</th><th scope=col>x</th><th scope=col>n</th><th scope=col>mean</th><th scope=col>lower</th><th scope=col>upper</th></tr></thead>\n",
       "<tbody>\n",
       "\t<tr><td>agresti-coull</td><td>4            </td><td>50           </td><td>0.08000000   </td><td>0.026401422  </td><td>0.1935306    </td></tr>\n",
       "\t<tr><td>asymptotic   </td><td>4            </td><td>50           </td><td>0.08000000   </td><td>0.004802744  </td><td>0.1551973    </td></tr>\n",
       "\t<tr><td>bayes        </td><td>4            </td><td>50           </td><td>0.08823529   </td><td>0.020533866  </td><td>0.1659840    </td></tr>\n",
       "\t<tr><td>cloglog      </td><td>4            </td><td>50           </td><td>0.08000000   </td><td>0.025617545  </td><td>0.1753713    </td></tr>\n",
       "\t<tr><td>exact        </td><td>4            </td><td>50           </td><td>0.08000000   </td><td>0.022227964  </td><td>0.1923428    </td></tr>\n",
       "\t<tr><td>logit        </td><td>4            </td><td>50           </td><td>0.08000000   </td><td>0.030352642  </td><td>0.1945605    </td></tr>\n",
       "\t<tr><td>probit       </td><td>4            </td><td>50           </td><td>0.08000000   </td><td>0.028009732  </td><td>0.1842574    </td></tr>\n",
       "\t<tr><td>profile      </td><td>4            </td><td>50           </td><td>0.08000000   </td><td>0.025597206  </td><td>0.1761626    </td></tr>\n",
       "\t<tr><td>lrt          </td><td>4            </td><td>50           </td><td>0.08000000   </td><td>0.025551956  </td><td>0.1761587    </td></tr>\n",
       "\t<tr><td>prop.test    </td><td>4            </td><td>50           </td><td>0.08000000   </td><td>0.025940198  </td><td>0.2011004    </td></tr>\n",
       "\t<tr><td>wilson       </td><td>4            </td><td>50           </td><td>0.08000000   </td><td>0.031549514  </td><td>0.1883825    </td></tr>\n",
       "</tbody>\n",
       "</table>\n"
      ],
      "text/latex": [
       "\\begin{tabular}{r|llllll}\n",
       " method & x & n & mean & lower & upper\\\\\n",
       "\\hline\n",
       "\t agresti-coull & 4             & 50            & 0.08000000    & 0.026401422   & 0.1935306    \\\\\n",
       "\t asymptotic    & 4             & 50            & 0.08000000    & 0.004802744   & 0.1551973    \\\\\n",
       "\t bayes         & 4             & 50            & 0.08823529    & 0.020533866   & 0.1659840    \\\\\n",
       "\t cloglog       & 4             & 50            & 0.08000000    & 0.025617545   & 0.1753713    \\\\\n",
       "\t exact         & 4             & 50            & 0.08000000    & 0.022227964   & 0.1923428    \\\\\n",
       "\t logit         & 4             & 50            & 0.08000000    & 0.030352642   & 0.1945605    \\\\\n",
       "\t probit        & 4             & 50            & 0.08000000    & 0.028009732   & 0.1842574    \\\\\n",
       "\t profile       & 4             & 50            & 0.08000000    & 0.025597206   & 0.1761626    \\\\\n",
       "\t lrt           & 4             & 50            & 0.08000000    & 0.025551956   & 0.1761587    \\\\\n",
       "\t prop.test     & 4             & 50            & 0.08000000    & 0.025940198   & 0.2011004    \\\\\n",
       "\t wilson        & 4             & 50            & 0.08000000    & 0.031549514   & 0.1883825    \\\\\n",
       "\\end{tabular}\n"
      ],
      "text/markdown": [
       "\n",
       "method | x | n | mean | lower | upper | \n",
       "|---|---|---|---|---|---|---|---|---|---|---|\n",
       "| agresti-coull | 4             | 50            | 0.08000000    | 0.026401422   | 0.1935306     | \n",
       "| asymptotic    | 4             | 50            | 0.08000000    | 0.004802744   | 0.1551973     | \n",
       "| bayes         | 4             | 50            | 0.08823529    | 0.020533866   | 0.1659840     | \n",
       "| cloglog       | 4             | 50            | 0.08000000    | 0.025617545   | 0.1753713     | \n",
       "| exact         | 4             | 50            | 0.08000000    | 0.022227964   | 0.1923428     | \n",
       "| logit         | 4             | 50            | 0.08000000    | 0.030352642   | 0.1945605     | \n",
       "| probit        | 4             | 50            | 0.08000000    | 0.028009732   | 0.1842574     | \n",
       "| profile       | 4             | 50            | 0.08000000    | 0.025597206   | 0.1761626     | \n",
       "| lrt           | 4             | 50            | 0.08000000    | 0.025551956   | 0.1761587     | \n",
       "| prop.test     | 4             | 50            | 0.08000000    | 0.025940198   | 0.2011004     | \n",
       "| wilson        | 4             | 50            | 0.08000000    | 0.031549514   | 0.1883825     | \n",
       "\n",
       "\n"
      ],
      "text/plain": [
       "   method        x n  mean       lower       upper    \n",
       "1  agresti-coull 4 50 0.08000000 0.026401422 0.1935306\n",
       "2  asymptotic    4 50 0.08000000 0.004802744 0.1551973\n",
       "3  bayes         4 50 0.08823529 0.020533866 0.1659840\n",
       "4  cloglog       4 50 0.08000000 0.025617545 0.1753713\n",
       "5  exact         4 50 0.08000000 0.022227964 0.1923428\n",
       "6  logit         4 50 0.08000000 0.030352642 0.1945605\n",
       "7  probit        4 50 0.08000000 0.028009732 0.1842574\n",
       "8  profile       4 50 0.08000000 0.025597206 0.1761626\n",
       "9  lrt           4 50 0.08000000 0.025551956 0.1761587\n",
       "10 prop.test     4 50 0.08000000 0.025940198 0.2011004\n",
       "11 wilson        4 50 0.08000000 0.031549514 0.1883825"
      ]
     },
     "metadata": {},
     "output_type": "display_data"
    }
   ],
   "source": [
    "## and as aways there is function from 'binom' package that can do all the calculations for us\n",
    "## keep the methods == \"all\" if you want to check intervals for different methods, not only Wald or Agresti/Coull\n",
    "binom.confint(x = hyper_true, n = n, conf.level = 0.95, methods = \"all\")"
   ]
  },
  {
   "cell_type": "markdown",
   "metadata": {},
   "source": [
    "## <a id='next'>What to Expect Next</a>"
   ]
  },
  {
   "cell_type": "markdown",
   "metadata": {},
   "source": [
    "There are just two topics left I wanted to cover - hypothesis testing and statistical power. I might create a 3rd part to fit it in, so in this way I don't put too much information in one kernel. I will try to make it done before the end of this week.\n",
    "\n",
    "**Once again, thank you for your time and feel free to ask me anything!**"
   ]
  }
 ],
 "metadata": {
  "kernelspec": {
   "display_name": "R",
   "language": "R",
   "name": "ir"
  },
  "language_info": {
   "codemirror_mode": "r",
   "file_extension": ".r",
   "mimetype": "text/x-r-source",
   "name": "R",
   "pygments_lexer": "r",
   "version": "3.4.4"
  }
 },
 "nbformat": 4,
 "nbformat_minor": 2
}
