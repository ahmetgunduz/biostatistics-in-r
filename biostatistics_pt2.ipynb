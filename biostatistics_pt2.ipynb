{
 "cells": [
  {
   "cell_type": "markdown",
   "metadata": {},
   "source": [
    "### <center><font size=5> (Bio)statistics in R: Part #2</font></center>\n",
    "\n",
    "***\n",
    "\n",
    "**author**: Ruslan Klymentiev\n",
    "\n",
    "**date**: XX August, 2018\n",
    "\n",
    "![](https://image.ibb.co/hiisWK/pexels_photo_935869.jpg)\n",
    "\n",
    "***Link to part #1.***"
   ]
  },
  {
   "cell_type": "markdown",
   "metadata": {},
   "source": [
    "- <a href='#intro'>Project Introduction</a>  \n",
    "- <a href='#setup'>Setting up the Environment</a>\n",
    "- <a href='#probthnk'>Probabilistic Thinking</a>\n",
    " - <a href='#exp'>Experiments</a>\n",
    " - <a href='#prob'>Probability</a>\n",
    " - <a href='#rv'>Random Variables</a>\n",
    " - <a href='#chardist'>Main Characteristics of Distribution</a>\n",
    " - <a href='#condprob'>Conditional Probability</a>\n",
    " - <a href='#bayes'>Bayes Rule</a>\n",
    " - <a href='#roc'>ROC and AUC</a>\n",
    "- <a href='#stroke'>Healthcare Dataset Stroke Data</a>\n",
    " - <a href='#eda'>EDA (Exploratory Data Analysis)</a> \n",
    " - <a href='#outcome'>Test Outcome Analysis</a> \n",
    "- <a href='#nextpart'>What to Expect Next</a>"
   ]
  },
  {
   "cell_type": "markdown",
   "metadata": {},
   "source": [
    "First of all, I want to say thank for your feedback and positive comments. I really hope that first part was worth reading.\n",
    "\n",
    "So now we know what is probability, difference between sample and population, we can calculate main characterictics of distribution and explore them through visualization. Also we covered how to explore test results using probabilistic thinking and Bayes Rule. \n",
    "\n",
    "In this part we will focus on how make decisions about population based on the information of sample."
   ]
  },
  {
   "cell_type": "markdown",
   "metadata": {},
   "source": [
    "## <a id='setup'>Setting up the environment</a> "
   ]
  },
  {
   "cell_type": "code",
   "execution_count": 4,
   "metadata": {
    "collapsed": true
   },
   "outputs": [],
   "source": [
    "suppressMessages(library(tidyverse))\n",
    "suppressMessages(library(repr))\n",
    "suppressMessages(library(cowplot))\n",
    "set.seed(123)\n",
    "options(repr.plot.width=7, repr.plot.height=3)"
   ]
  },
  {
   "cell_type": "code",
   "execution_count": 102,
   "metadata": {},
   "outputs": [
    {
     "data": {
      "text/html": [
       "<table>\n",
       "<thead><tr><th></th><th scope=col>gender</th><th scope=col>age</th><th scope=col>hypertension</th><th scope=col>heart_disease</th><th scope=col>ever_married</th><th scope=col>work_type</th><th scope=col>Residence_type</th><th scope=col>avg_glucose_level</th><th scope=col>bmi</th><th scope=col>smoking_status</th><th scope=col>stroke</th></tr></thead>\n",
       "<tbody>\n",
       "\t<tr><th scope=row>20702</th><td>Male         </td><td>49           </td><td>0            </td><td>0            </td><td>Yes          </td><td>Govt_job     </td><td>Rural        </td><td>128.04       </td><td>31.1         </td><td>never smoked </td><td>0            </td></tr>\n",
       "\t<tr><th scope=row>34964</th><td>Male         </td><td>77           </td><td>0            </td><td>0            </td><td>Yes          </td><td>Self-employed</td><td>Urban        </td><td>100.29       </td><td>31.2         </td><td>smokes       </td><td>0            </td></tr>\n",
       "\t<tr><th scope=row>19317</th><td>Male         </td><td>42           </td><td>0            </td><td>0            </td><td>Yes          </td><td>Private      </td><td>Urban        </td><td> 81.89       </td><td>42.8         </td><td>smokes       </td><td>0            </td></tr>\n",
       "\t<tr><th scope=row>29660</th><td>Male         </td><td>75           </td><td>0            </td><td>0            </td><td>Yes          </td><td>Private      </td><td>Rural        </td><td> 81.76       </td><td>32.4         </td><td>never smoked </td><td>0            </td></tr>\n",
       "\t<tr><th scope=row>20571</th><td>Female       </td><td>64           </td><td>0            </td><td>0            </td><td>Yes          </td><td>Self-employed</td><td>Urban        </td><td>209.38       </td><td>47.7         </td><td>never smoked </td><td>0            </td></tr>\n",
       "</tbody>\n",
       "</table>\n"
      ],
      "text/latex": [
       "\\begin{tabular}{r|lllllllllll}\n",
       "  & gender & age & hypertension & heart\\_disease & ever\\_married & work\\_type & Residence\\_type & avg\\_glucose\\_level & bmi & smoking\\_status & stroke\\\\\n",
       "\\hline\n",
       "\t20702 & Male            & 49              & 0               & 0               & Yes             & Govt\\_job      & Rural           & 128.04          & 31.1            & never smoked    & 0              \\\\\n",
       "\t34964 & Male          & 77            & 0             & 0             & Yes           & Self-employed & Urban         & 100.29        & 31.2          & smokes        & 0            \\\\\n",
       "\t19317 & Male          & 42            & 0             & 0             & Yes           & Private       & Urban         &  81.89        & 42.8          & smokes        & 0            \\\\\n",
       "\t29660 & Male          & 75            & 0             & 0             & Yes           & Private       & Rural         &  81.76        & 32.4          & never smoked  & 0            \\\\\n",
       "\t20571 & Female        & 64            & 0             & 0             & Yes           & Self-employed & Urban         & 209.38        & 47.7          & never smoked  & 0            \\\\\n",
       "\\end{tabular}\n"
      ],
      "text/markdown": [
       "\n",
       "| <!--/--> | gender | age | hypertension | heart_disease | ever_married | work_type | Residence_type | avg_glucose_level | bmi | smoking_status | stroke | \n",
       "|---|---|---|---|---|\n",
       "| 20702 | Male          | 49            | 0             | 0             | Yes           | Govt_job      | Rural         | 128.04        | 31.1          | never smoked  | 0             | \n",
       "| 34964 | Male          | 77            | 0             | 0             | Yes           | Self-employed | Urban         | 100.29        | 31.2          | smokes        | 0             | \n",
       "| 19317 | Male          | 42            | 0             | 0             | Yes           | Private       | Urban         |  81.89        | 42.8          | smokes        | 0             | \n",
       "| 29660 | Male          | 75            | 0             | 0             | Yes           | Private       | Rural         |  81.76        | 32.4          | never smoked  | 0             | \n",
       "| 20571 | Female        | 64            | 0             | 0             | Yes           | Self-employed | Urban         | 209.38        | 47.7          | never smoked  | 0             | \n",
       "\n",
       "\n"
      ],
      "text/plain": [
       "      gender age hypertension heart_disease ever_married work_type    \n",
       "20702 Male   49  0            0             Yes          Govt_job     \n",
       "34964 Male   77  0            0             Yes          Self-employed\n",
       "19317 Male   42  0            0             Yes          Private      \n",
       "29660 Male   75  0            0             Yes          Private      \n",
       "20571 Female 64  0            0             Yes          Self-employed\n",
       "      Residence_type avg_glucose_level bmi  smoking_status stroke\n",
       "20702 Rural          128.04            31.1 never smoked   0     \n",
       "34964 Urban          100.29            31.2 smokes         0     \n",
       "19317 Urban           81.89            42.8 smokes         0     \n",
       "29660 Rural           81.76            32.4 never smoked   0     \n",
       "20571 Urban          209.38            47.7 never smoked   0     "
      ]
     },
     "metadata": {},
     "output_type": "display_data"
    }
   ],
   "source": [
    "Stroke_Data <- read.csv(\"healthcare-dataset-stroke-data/train_2v.csv\")\n",
    "\n",
    "# some data cleaning\n",
    "Stroke_Data <- Stroke_Data %>% filter(gender != \"Other\" & !(is.na(bmi))) %>%\n",
    "  select(-id)\n",
    "\n",
    "# convert some variables to a factor\n",
    "Stroke_Data$hypertension <- as.factor(Stroke_Data$hypertension)\n",
    "Stroke_Data$heart_disease <- as.factor(Stroke_Data$heart_disease)\n",
    "Stroke_Data$stroke <- as.factor(Stroke_Data$stroke)\n",
    "\n",
    "sample_n(Stroke_Data, 5)"
   ]
  },
  {
   "cell_type": "markdown",
   "metadata": {},
   "source": [
    "## Likelihood\n",
    "\n",
    "**Likelihood** is a tool for summarizing the data’s evidence about unknown parameters. The likelohood of a collection of data is the joint density evaluated as a function of the unknown parameters with the data fixed.\n",
    "\n",
    "Given a statistical probability mass function or density, say $f(x,\\theta)$, where $\\theta$ is unkown parameter, the likelihood $L$ is $f$ viewed as a function of $\\theta$ for a fixed observed values of $x$.\n",
    "\n",
    "Example:\n",
    "\n",
    "We have a coin chance of getting heads $\\theta$ which falls under binomial distribution.\n",
    "\\begin{align}\n",
    "f(x,\\theta) = \\theta^x(1-\\theta)^{1-x}, \\theta \\in [0;1]\n",
    "\\end{align}\n",
    "\n",
    "$x$ is either tails (0) or heads (1). We flip a coin and the result was heads (1). The likelihood is:\n",
    "\\begin{align}\n",
    "L(\\theta,1) = \\theta^1(1-\\theta)^{1-1}, \\theta \\in [0;1]\n",
    "\\end{align}\n",
    "Now we want to find likelihood that our coin is fair ($\\theta=.5$) vs coin is unfair (say, $\\theta=.25$).\n",
    "\\begin{align}\n",
    "\\frac{L(0.5,1)}{L(0.25,1)}=\\frac{1/2}{1/4}=2\n",
    "\\end{align}\n",
    "Conclusion - there os twice as much evidence supporting the hypothesis that coin is fair ($\\theta=.5$) to the hypothesis that coin is unfair ($\\theta=.25$)."
   ]
  },
  {
   "cell_type": "markdown",
   "metadata": {},
   "source": [
    "## Approximation results and confidence intervals\n",
    "\n",
    "### Law of Large Numbers\n",
    "\n",
    ">In probability theory, the **law of large numbers (LLN)** is a theorem that describes the result of performing the same experiment a large number of times. According to the law, the average of the results obtained from a large number of trials should be close to the expected value, and will tend to become closer as more trials are performed.\n",
    "\n",
    "> *Source: [Wikipedia](https://en.wikipedia.org/wiki/Law_of_large_numbers)*\n",
    "\n",
    "Imagine we are running an experiment to check the ratio of people with and w/o **Hypertension**. We assume that ratio from this dataset is true ratio of population. Then we take the sample of Hypertension results and check whether the difference between ratio of the sample and ratio of population is going to zero after bigger sample size."
   ]
  },
  {
   "cell_type": "code",
   "execution_count": 288,
   "metadata": {},
   "outputs": [
    {
     "name": "stdout",
     "output_type": "stream",
     "text": [
      "[1] \"Ratio of people with Hypertension in population: 0.088\"\n"
     ]
    }
   ],
   "source": [
    "print(paste0(\"Ratio of people with Hypertension in population: \", round(mean(Stroke_Data$hypertension == 1),3)))"
   ]
  },
  {
   "cell_type": "code",
   "execution_count": 289,
   "metadata": {},
   "outputs": [
    {
     "data": {
      "image/png": "[encoded data removed]",
      "text/plain": [
       "plot without title"
      ]
     },
     "metadata": {},
     "output_type": "display_data"
    }
   ],
   "source": [
    "n <- 500 # size of the samples\n",
    "\n",
    "# covert hypertension column to string on (0,1 integers)\n",
    "hypertension  <- as.numeric(levels(Stroke_Data$hypertension))[Stroke_Data$hypertension]\n",
    "\n",
    "avg_value <- mean(hypertension)\n",
    "\n",
    "# taking three random sample n-size each\n",
    "x1 = sample(hypertension, size = n, replace = F)\n",
    "x2 = sample(hypertension, size = n, replace = F)\n",
    "x3 = sample(hypertension, size = n, replace = F)\n",
    "\n",
    "# creating three vectors that will hold information about ratio for each size of sample (from 1 to n)\n",
    "xbar1 = rep(0,length(x1))\n",
    "xbar2 = rep(0,length(x2))\n",
    "xbar3 = rep(0,length(x3))\n",
    "\n",
    "for (i in 1:length(x1)) {\n",
    "    xbar1[i] = mean(x1[1:i])\n",
    "    xbar2[i] = mean(x2[1:i])\n",
    "    xbar3[i] = mean(x3[1:i])\n",
    "}\n",
    "\n",
    "plot(1:n, xbar1-avg_value, type=\"l\", col=\"red\", lwd=1, ylim=c(-0.1,0.2),\n",
    "     xlab=\"Number of subjects sampled\",\n",
    "     ylab=\"Distance to the mean\")\n",
    "lines(1:n, xbar2-avg_value, col=\"blue\", lwd=1)\n",
    "lines(1:n, xbar3-avg_value, col=\"orange\", lwd=1)\n",
    "lines(1:n, rep(0,n), lwd=3)"
   ]
  },
  {
   "cell_type": "markdown",
   "metadata": {},
   "source": [
    "We can see, that the higher the number of subjects in our samples, the more likely mean of the sample is going to equal to the mean of population.\n",
    "\n",
    "The **law of large numbers** will establish that as *n* increases the averages are close to the target, while the\n",
    "**central limit theorem** will say how close and with what probability are the results of the experiment to the\n",
    "true target.\n",
    "\n",
    "### Central Limit Theorem\n",
    "\n",
    "> The **Central Limit Theorem** states that the sampling distribution of the sample means approaches a normal distribution as the sample size gets larger — no matter what the shape of the population distribution. This fact holds especially true for sample sizes over 30. All this is saying is that as you take more samples, especially large ones, your graph of the sample means will look more like a normal distribution.\n",
    "\n",
    "> *Source: [StatisticsHowTo](http://www.statisticshowto.com/probability-and-statistics/normal-distributions/central-limit-theorem-definition-examples/)*\n",
    "\n",
    "Let's look at the distribution of the **BMI** of people who never had a **stroke**."
   ]
  },
  {
   "cell_type": "code",
   "execution_count": 290,
   "metadata": {},
   "outputs": [
    {
     "name": "stdout",
     "output_type": "stream",
     "text": [
      "[1] \"Population mean: 28.6\"\n"
     ]
    },
    {
     "data": {
      "image/png": "[encoded data removed]",
      "text/plain": [
       "Plot with title \"Histogram of bmi\""
      ]
     },
     "metadata": {},
     "output_type": "display_data"
    }
   ],
   "source": [
    "bmi <- Stroke_Data$bmi[Stroke_Data$stroke == 0]\n",
    "hist(bmi, breaks=50)\n",
    "print(paste0(\"Population mean: \", round(mean(bmi), 1)))"
   ]
  },
  {
   "cell_type": "code",
   "execution_count": 291,
   "metadata": {},
   "outputs": [
    {
     "name": "stdout",
     "output_type": "stream",
     "text": [
      "[1] \"Sample mean: 29.9\"\n"
     ]
    },
    {
     "data": {
      "image/png": "[encoded data removed]",
      "text/plain": [
       "Plot with title \"Histogram of sample means (sample size = 30)\""
      ]
     },
     "metadata": {},
     "output_type": "display_data"
    }
   ],
   "source": [
    "n = 30\n",
    "sample = sample(bmi, size = n, replace = F)\n",
    "xbar = rep(0,length(sample))\n",
    "\n",
    "for (i in 1:length(sample)) {\n",
    "    xbar[i] = mean(sample[1:i])\n",
    "}\n",
    "\n",
    "hist(xbar, breaks=50, main = \"Histogram of sample means (sample size = 30)\")\n",
    "print(paste0(\"Sample mean: \", round(mean(xbar), 1)))"
   ]
  },
  {
   "cell_type": "code",
   "execution_count": 292,
   "metadata": {},
   "outputs": [
    {
     "name": "stdout",
     "output_type": "stream",
     "text": [
      "[1] \"Sample mean: 29\"\n"
     ]
    },
    {
     "data": {
      "image/png": "[encoded data removed]",
      "text/plain": [
       "Plot with title \"Histogram of sample means (sample size = 300)\""
      ]
     },
     "metadata": {},
     "output_type": "display_data"
    }
   ],
   "source": [
    "n = 300\n",
    "sample = sample(bmi, size = n, replace = F)\n",
    "xbar = rep(0,length(sample))\n",
    "\n",
    "for (i in 1:length(sample)) {\n",
    "    xbar[i] = mean(sample[1:i])\n",
    "}\n",
    "\n",
    "hist(xbar, breaks=50, main = \"Histogram of sample means (sample size = 300)\")\n",
    "print(paste0(\"Sample mean: \", round(mean(xbar), 1)))"
   ]
  },
  {
   "cell_type": "markdown",
   "metadata": {},
   "source": [
    "So we could see that distribution of sample means was more likely to look like normal as sample size was increasing."
   ]
  },
  {
   "cell_type": "markdown",
   "metadata": {},
   "source": [
    "### Confidence Intervals\n",
    "\n",
    "> A **confidence interval** is how much uncertainty there is with any particular statistic. Confidence intervals are often used with a margin of error. It tells you how confident you can be that the results from a poll or survey reflect what you would expect to find if it were possible to survey the entire population.\n",
    "\n",
    "> *Source: [StatisticsHowTo](http://www.statisticshowto.com/probability-and-statistics/confidence-interval/)*\n",
    "\n",
    "The probability that the random interval $X_n \\pm Z_{1-\\frac{\\alpha}{2}}\\frac{\\sigma}{\\sqrt{n}}$ contains $\\mu$ is approximately 95%, where $Z_{1-\\frac{\\alpha}{2}}$ is the $(1-\\frac{\\alpha}{2})$ quantile of the standard normal distribution ($\\mu=0, \\sigma = 1$). This is called 95% CI for $\\mu$.\n",
    "\n",
    "Let's look at example from ideal world where we know the population distribution:"
   ]
  },
  {
   "cell_type": "code",
   "execution_count": 245,
   "metadata": {},
   "outputs": [
    {
     "name": "stdout",
     "output_type": "stream",
     "text": [
      "[1] \"Population mean: 10.1\"\n",
      "[1] \"Population standard error: 5\"\n"
     ]
    },
    {
     "data": {
      "image/png": "[encoded data removed]",
      "text/plain": [
       "Plot with title \"Histogram of population\""
      ]
     },
     "metadata": {},
     "output_type": "display_data"
    }
   ],
   "source": [
    "population <- rnorm(5000, 10, 5)\n",
    "hist(population, breaks = 25)\n",
    "print(paste0(\"Population mean: \", round(mean(population), 1)))\n",
    "print(paste0(\"Population standard error: \", round(sd(population), 1)))"
   ]
  },
  {
   "cell_type": "code",
   "execution_count": 248,
   "metadata": {},
   "outputs": [
    {
     "name": "stdout",
     "output_type": "stream",
     "text": [
      "[1] \"Sample mean: 9.6\"\n",
      "[1] \"Sample standard error: 5\"\n"
     ]
    }
   ],
   "source": [
    "n=250\n",
    "sample <- sample(population, size=n, replace = F)\n",
    "print(paste0(\"Sample mean: \", round(mean(sample), 1)))\n",
    "print(paste0(\"Sample standard error: \", round(sd(sample), 1)))"
   ]
  },
  {
   "cell_type": "code",
   "execution_count": 253,
   "metadata": {},
   "outputs": [
    {
     "name": "stdout",
     "output_type": "stream",
     "text": [
      "[1] \"With 95% confidence we can say that population mean is in interval [9; 10.2]\"\n"
     ]
    },
    {
     "data": {
      "image/png": "[encoded data removed]",
      "text/plain": [
       "Plot with title \"Histogram of sample\""
      ]
     },
     "metadata": {},
     "output_type": "display_data"
    }
   ],
   "source": [
    "# caclulation 95% CI\n",
    "alpha = 0.05\n",
    "quant <- 1 - alpha/2\n",
    "Z_score <- qnorm(quant, lower.tail=TRUE)\n",
    "lower <- mean(sample) - Z_score * sd(population) / sqrt(n)\n",
    "upper <- mean(sample) + Z_score * sd(population) / sqrt(n)\n",
    "\n",
    "hist(sample, breaks = 25)\n",
    "abline(v=lower, col=\"red\")\n",
    "abline(v=upper, col=\"red\")\n",
    "print(paste0(\"With 95% confidence we can say that population mean is in interval [\", round(lower,1), \"; \", round(upper,1), \"]\"))"
   ]
  },
  {
   "cell_type": "markdown",
   "metadata": {},
   "source": [
    "But, as said before, we usually don't know the distribution of population. In this case we must rely on sample standard deviations and **T-scores**. T-scores come from T-distributions, which help us account for error that occurs when we sample from a population. We use a different T-distribution to calculate cumulative probabilites depending on our degrees of freedom.\n",
    "\n",
    "**Confidence interval for the mean using t-distribution:**\n",
    "\\begin{align}\n",
    "\\bar{X} \\pm t_{n-1,1-\\frac{\\alpha}{2}}\\frac{s}{\\sqrt{n}}\n",
    "\\end{align}\n",
    "\n",
    "$(n-1)$ - degrees of freedom, $n$ - sample size.\n",
    "\n",
    "*Note that if we don't know real value of population standard error, we use sample st.error.*\n",
    "\n",
    "Let's come back to our dataset and find the confidence interval for the mean value of **BMI** for the whole population based on our sample (*sample = dataset itself*)."
   ]
  },
  {
   "cell_type": "code",
   "execution_count": 269,
   "metadata": {},
   "outputs": [
    {
     "name": "stdout",
     "output_type": "stream",
     "text": [
      "[1] \"With 95% confidence we can say that population mean is in interval [28.5; 28.7]\"\n"
     ]
    },
    {
     "data": {
      "image/png": "[encoded data removed]",
      "text/plain": [
       "Plot with title \"Histogram of bmi\""
      ]
     },
     "metadata": {},
     "output_type": "display_data"
    }
   ],
   "source": [
    "bmi <- Stroke_Data$bmi\n",
    "X_bar <- mean(bmi)\n",
    "s <- sd(bmi)\n",
    "n <- length(bmi)\n",
    "alpha = 0.05\n",
    "t_score <- qt(1-alpha/2, n-1)\n",
    "\n",
    "lower <- X_bar - t_score * s / sqrt(n)\n",
    "upper <- X_bar + t_score * s / sqrt(n)\n",
    "\n",
    "hist(bmi, breaks = 25)\n",
    "abline(v=lower, col=\"red\")\n",
    "abline(v=upper, col=\"red\")\n",
    "print(paste0(\"With 95% confidence we can say that population mean is in interval [\", round(lower,1), \"; \", round(upper,1), \"]\"))"
   ]
  },
  {
   "cell_type": "markdown",
   "metadata": {},
   "source": [
    "Note how narrow the CI is. This is due the large sample size (almost 42k). Look what will happen if we had much smaller sample:"
   ]
  },
  {
   "cell_type": "code",
   "execution_count": 270,
   "metadata": {},
   "outputs": [
    {
     "name": "stdout",
     "output_type": "stream",
     "text": [
      "[1] \"With 95% confidence we can say that population mean is in interval [27.9; 30.9]\"\n"
     ]
    },
    {
     "data": {
      "image/png": "[encoded data removed]",
      "text/plain": [
       "Plot with title \"Histogram of bmi\""
      ]
     },
     "metadata": {},
     "output_type": "display_data"
    }
   ],
   "source": [
    "bmi <- Stroke_Data$bmi\n",
    "bmi <- sample(bmi, size = 100, replace = F) # keep just 100 observations\n",
    "X_bar <- mean(bmi)\n",
    "sigma <- sd(bmi)\n",
    "n <- length(bmi)\n",
    "alpha = 0.05\n",
    "t_score <- qt(1-alpha/2, n-1)\n",
    "\n",
    "lower <- X_bar - t_score * sigma / sqrt(n)\n",
    "upper <- X_bar + t_score * sigma / sqrt(n)\n",
    "\n",
    "hist(bmi, breaks = 25)\n",
    "abline(v=lower, col=\"red\")\n",
    "abline(v=upper, col=\"red\")\n",
    "print(paste0(\"With 95% confidence we can say that population mean is in interval [\", round(lower,1), \"; \", round(upper,1), \"]\"))"
   ]
  },
  {
   "cell_type": "markdown",
   "metadata": {},
   "source": [
    "#### Couple of words about t-distribution\n",
    "\n",
    "> The **T distribution** (also called Student’s T Distribution) is a family of distributions that look almost identical to the normal distribution curve, only a bit shorter and fatter. The t distribution is used instead of the normal distribution when you have small samples (n < 30). The larger the sample size, the more the t distribution looks like the normal distribution. \n",
    "\n",
    "> *Source: [StatisticsHowTo](http://www.statisticshowto.com/probability-and-statistics/t-distribution/)*\n",
    "\n",
    "![](https://i2.wp.com/www.real-statistics.com/wp-content/uploads/2012/11/t-distribution-chart.png?resize=439%2C264)"
   ]
  },
  {
   "cell_type": "markdown",
   "metadata": {},
   "source": [
    "## *t* and F tests\n",
    "\n",
    "In this part we will look at how we can compare independent groups.\n",
    "\n",
    "### Introduction to t-test and confidence intervals\n",
    "\n",
    ">The **t-test** (also called **Student’s T-Test**) compares two averages (means) and tells you if they are different from each other. The t-test also tells you how significant the differences are; In other words it lets you know if those differences could have happened by chance.\n",
    "\n",
    ">*Source: [Statistics How To](http://www.statisticshowto.com/probability-and-statistics/t-test/)*\n",
    "\n",
    "Assume we have two sets of iid random variables:\n",
    "\n",
    "$X_1,...,X_n \\sim N(\\mu_x, \\sigma^2)$;\n",
    "\n",
    "$Y_1,...,Y_n \\sim N(\\mu_y, \\sigma^2)$.\n",
    "\n",
    "$100(1-\\alpha$)% CI for the difference between means of this two sets is:\n",
    "\n",
    "\\begin{gather}\n",
    "\\bar{X} - \\bar{Y} \\pm t_{n_X+n_Y-2, 1-\\frac{\\alpha}{2}} S_{n, pooled}(\\frac{1}{n_X} + \\frac{1}{n_Y})^\\frac{1}{2} \\\\\n",
    "S^2_{n, pooled} = \\frac{(n_X-1)\\sigma^2 + (n_Y-1)\\sigma^2}{n_X + n_Y - 2}\n",
    "\\end{gather}\n",
    "\n",
    "$S^2_{n, pooled}$ - pooled variance estimator, mixture of the group variances, placing greater weight on whichever has a larger sample size.\n",
    "\n",
    "If $\\sigma^2_X \\neq \\sigma^2_Y$, then:\n",
    "\\begin{gather}\n",
    "\\bar{X} - \\bar{Y} \\pm t_{n_X+n_Y-2, 1-\\frac{\\alpha}{2}} (\\frac{S^2_X}{n_X} + \\frac{S^2_Y}{n_Y})^\\frac{1}{2} \\\\\n",
    "\\end{gather}"
   ]
  },
  {
   "cell_type": "markdown",
   "metadata": {},
   "source": [
    "Let's assume that we want to check whether the difference in age for people who had stroke and who didn't is significant. To do that we can run a **t-test** to find out. First, lets visually inspect the distribution of **Age** by **Stroke** outcome."
   ]
  },
  {
   "cell_type": "code",
   "execution_count": 293,
   "metadata": {},
   "outputs": [
    {
     "data": {
      "text/html": [
       "<table>\n",
       "<thead><tr><th scope=col>group</th><th scope=col>count</th><th scope=col>mean</th><th scope=col>variance</th></tr></thead>\n",
       "<tbody>\n",
       "\t<tr><td>No Stroke</td><td>41288    </td><td>41       </td><td>499.90   </td></tr>\n",
       "\t<tr><td>Stroke   </td><td>  643    </td><td>68       </td><td>147.97   </td></tr>\n",
       "</tbody>\n",
       "</table>\n"
      ],
      "text/latex": [
       "\\begin{tabular}{r|llll}\n",
       " group & count & mean & variance\\\\\n",
       "\\hline\n",
       "\t No Stroke & 41288     & 41        & 499.90   \\\\\n",
       "\t Stroke    &   643     & 68        & 147.97   \\\\\n",
       "\\end{tabular}\n"
      ],
      "text/markdown": [
       "\n",
       "group | count | mean | variance | \n",
       "|---|---|\n",
       "| No Stroke | 41288     | 41        | 499.90    | \n",
       "| Stroke    |   643     | 68        | 147.97    | \n",
       "\n",
       "\n"
      ],
      "text/plain": [
       "  group     count mean variance\n",
       "1 No Stroke 41288 41   499.90  \n",
       "2 Stroke      643 68   147.97  "
      ]
     },
     "metadata": {},
     "output_type": "display_data"
    }
   ],
   "source": [
    "Stroke_Data %>%\n",
    "    mutate(group = case_when(\n",
    "        (stroke == 1) ~ \"Stroke\",\n",
    "        (stroke == 0) ~ \"No Stroke\")) %>%\n",
    "    group_by(group) %>%\n",
    "    summarise(count = length(age),\n",
    "              mean = round(mean(age)),\n",
    "              variance = round(var(age),2))"
   ]
  },
  {
   "cell_type": "markdown",
   "metadata": {},
   "source": [
    "What we can see is that average age for having a stroke is much higher (which should not come as a big surprise). If we compare the average values of two groups we will get: \n",
    "\\begin{align} \n",
    "\\mu_0- \\mu_1 = 41 - 68 = -27 \n",
    "\\end{align}\n",
    "\n",
    "Our hypothesis for **t-test** look like this:\n",
    "\n",
    "* $H_0$: there is no difference in mean between two groups. $\\mu_0 = \\mu_1$\n",
    "\n",
    "* $H_1$: there is a difference in mean between two groups. $\\mu_0 \\neq \\mu_1$\n",
    "\n",
    "Now we can just have to run `t.test` function which is built in in R and find out if our difference in means can be considered as significant or it's just a random chance. We can not use paired t-test vecause our groups have different sample size, so we have to set `paired = FALSE` (which comes as default). Another parameter `var.equal` should be also set to `FALSE` since variances between groups are not equal. "
   ]
  },
  {
   "cell_type": "code",
   "execution_count": 211,
   "metadata": {},
   "outputs": [
    {
     "data": {
      "text/plain": [
       "\n",
       "\tWelch Two Sample t-test\n",
       "\n",
       "data:  age by stroke\n",
       "t = -54.922, df = 711.3, p-value < 2.2e-16\n",
       "alternative hypothesis: true difference in means is not equal to 0\n",
       "95 percent confidence interval:\n",
       " -27.99661 -26.06408\n",
       "sample estimates:\n",
       "mean in group 0 mean in group 1 \n",
       "       41.42688        68.45723 \n"
      ]
     },
     "metadata": {},
     "output_type": "display_data"
    }
   ],
   "source": [
    "t.test(age~stroke, \n",
    "       data=Stroke_Data,\n",
    "       var.equal = FALSE,\n",
    "       paired = FALSE,      \n",
    "       conf.level = 0.95)"
   ]
  },
  {
   "cell_type": "markdown",
   "metadata": {},
   "source": [
    "Confidence interval of mean differences is: [-28; -26]. This does not include 0, so we **reject** null hypothesis and we say that there is a significance difference between group means with confidence level of 95%. In other words, **we are 95% confident that stroke is more likely to happen to older people**.\n",
    "\n",
    "This may seems unclear - we had two samples, calculated the difference of their averages. This difference was far away from 0, so why did we still have to run t-test to check fot significance? The answer is that the size of confidence interval depends on the sample size (the higher observations we have the more confident we can be). Let's run an another example with less amount of observations."
   ]
  },
  {
   "cell_type": "code",
   "execution_count": 212,
   "metadata": {},
   "outputs": [
    {
     "data": {
      "text/html": [
       "<table>\n",
       "<thead><tr><th scope=col>stroke</th><th scope=col>count</th><th scope=col>mean_age</th><th scope=col>variance</th></tr></thead>\n",
       "<tbody>\n",
       "\t<tr><td>0     </td><td>25    </td><td>49    </td><td>509.62</td></tr>\n",
       "\t<tr><td>1     </td><td>25    </td><td>40    </td><td>497.96</td></tr>\n",
       "</tbody>\n",
       "</table>\n"
      ],
      "text/latex": [
       "\\begin{tabular}{r|llll}\n",
       " stroke & count & mean\\_age & variance\\\\\n",
       "\\hline\n",
       "\t 0      & 25     & 49     & 509.62\\\\\n",
       "\t 1      & 25     & 40     & 497.96\\\\\n",
       "\\end{tabular}\n"
      ],
      "text/markdown": [
       "\n",
       "stroke | count | mean_age | variance | \n",
       "|---|---|\n",
       "| 0      | 25     | 49     | 509.62 | \n",
       "| 1      | 25     | 40     | 497.96 | \n",
       "\n",
       "\n"
      ],
      "text/plain": [
       "  stroke count mean_age variance\n",
       "1 0      25    49       509.62  \n",
       "2 1      25    40       497.96  "
      ]
     },
     "metadata": {},
     "output_type": "display_data"
    }
   ],
   "source": [
    "example <- Stroke_Data %>%\n",
    "    select(stroke, age) \n",
    "\n",
    "#I will fill out data frame with unreal values just for example\n",
    "example  <- example[1:50,]\n",
    "example$stroke[1:25]  <- 0\n",
    "example$stroke[26:50] <- 1\n",
    "\n",
    "example %>% group_by(stroke) %>%\n",
    "    summarise(count = length(age),\n",
    "              mean_age = round(mean(age)),\n",
    "              variance = round(var(age),2))"
   ]
  },
  {
   "cell_type": "code",
   "execution_count": 213,
   "metadata": {},
   "outputs": [
    {
     "data": {
      "text/plain": [
       "\n",
       "\tWelch Two Sample t-test\n",
       "\n",
       "data:  age by stroke\n",
       "t = 1.3799, df = 47.994, p-value = 0.174\n",
       "alternative hypothesis: true difference in means is not equal to 0\n",
       "95 percent confidence interval:\n",
       " -4.00454 21.52454\n",
       "sample estimates:\n",
       "mean in group 0 mean in group 1 \n",
       "          49.04           40.28 \n"
      ]
     },
     "metadata": {},
     "output_type": "display_data"
    }
   ],
   "source": [
    "t.test(age~stroke, \n",
    "       data=example,\n",
    "       var.equal = FALSE,\n",
    "       paired = FALSE,      \n",
    "       conf.level = 0.95)"
   ]
  },
  {
   "cell_type": "markdown",
   "metadata": {},
   "source": [
    "In this case difference was 9, which also can be considered as \"away from zero\", but confidence interval is too wide [-4; 21]. It includes 0 value, so we can not be so sure, that Age is not related to Stroke outcome based on this sample."
   ]
  },
  {
   "cell_type": "markdown",
   "metadata": {
    "collapsed": true
   },
   "source": [
    "### F test\n",
    "\n",
    "It cab be a difficult task to assume wether the variances between two groups are different or not. We need to provide evidence against the assumption that the true variances are equal. And to do this we need to obtain the distribution of the ratio of variances in group 1 and 2: $\\sigma^2_1/\\sigma^2_2$.\n",
    "\n",
    "we always test that the population variances are equal when running an F Test. In other words, we always assume that the variances are equal to 1. Therefore, null hypothesis will always be that the variances are equal.\n",
    "\n",
    "Test statistic: $F=\\frac{\\sigma^2_1}{\\sigma^2_2}$.\n",
    "\n",
    "The hypothesis that the two variances are equal is rejected if:\n",
    "\n",
    "One-tailed test ($> or <$):\n",
    "\n",
    "\\begin{gather}\n",
    "F > F_{\\alpha,n_1-1,n_2-1} \\\\\n",
    "F < F_{1- \\alpha,n_1-1,n_2-1}\n",
    "\\end{gather}\n",
    "\n",
    "Two-tailored test ($\\neq$):\n",
    "\n",
    "\\begin{gather}\n",
    "F > F_{\\alpha/2,n_1-1,n_2-1} \\\\\n",
    "F < F_{1- \\alpha/2,n_1-1,n_2-1}\n",
    "\\end{gather}\n",
    "\n",
    "where $F_{\\alpha,n_1-1,n_2-1}$ is the critical value of the $F$ distribution with $(n_1-1)$ and $(n_2-1)$ degrees of freedom and a significance level of $\\alpha$.\n",
    "\n",
    "Let's look back at our example with the distribution of **Age** by **Stroke** outcome:"
   ]
  },
  {
   "cell_type": "code",
   "execution_count": 296,
   "metadata": {},
   "outputs": [
    {
     "data": {
      "text/html": [
       "<table>\n",
       "<thead><tr><th scope=col>group</th><th scope=col>count</th><th scope=col>variance</th></tr></thead>\n",
       "<tbody>\n",
       "\t<tr><td>No Stroke</td><td>41288    </td><td>499.90   </td></tr>\n",
       "\t<tr><td>Stroke   </td><td>  643    </td><td>147.97   </td></tr>\n",
       "</tbody>\n",
       "</table>\n"
      ],
      "text/latex": [
       "\\begin{tabular}{r|lll}\n",
       " group & count & variance\\\\\n",
       "\\hline\n",
       "\t No Stroke & 41288     & 499.90   \\\\\n",
       "\t Stroke    &   643     & 147.97   \\\\\n",
       "\\end{tabular}\n"
      ],
      "text/markdown": [
       "\n",
       "group | count | variance | \n",
       "|---|---|\n",
       "| No Stroke | 41288     | 499.90    | \n",
       "| Stroke    |   643     | 147.97    | \n",
       "\n",
       "\n"
      ],
      "text/plain": [
       "  group     count variance\n",
       "1 No Stroke 41288 499.90  \n",
       "2 Stroke      643 147.97  "
      ]
     },
     "metadata": {},
     "output_type": "display_data"
    }
   ],
   "source": [
    "Stroke_Data %>%\n",
    "    mutate(group = case_when(\n",
    "        (stroke == 1) ~ \"Stroke\",\n",
    "        (stroke == 0) ~ \"No Stroke\")) %>%\n",
    "    group_by(group) %>%\n",
    "    summarise(count = length(age),\n",
    "              variance = round(var(age),2))"
   ]
  },
  {
   "cell_type": "code",
   "execution_count": 307,
   "metadata": {},
   "outputs": [
    {
     "name": "stdout",
     "output_type": "stream",
     "text": [
      "[1] \"Test statistic (ratio of variances): 3.38\"\n"
     ]
    }
   ],
   "source": [
    "# caclulate the ratio of variances\n",
    "F <- var(Stroke_Data$age[Stroke_Data$stroke == 0]) / var(Stroke_Data$age[Stroke_Data$stroke == 1])\n",
    "print(paste0(\"Test statistic (ratio of variances): \", round(F,2)))"
   ]
  },
  {
   "cell_type": "code",
   "execution_count": 308,
   "metadata": {},
   "outputs": [
    {
     "data": {
      "text/html": [
       "<ol class=list-inline>\n",
       "\t<li>0.89</li>\n",
       "\t<li>1.11</li>\n",
       "</ol>\n"
      ],
      "text/latex": [
       "\\begin{enumerate*}\n",
       "\\item 0.89\n",
       "\\item 1.11\n",
       "\\end{enumerate*}\n"
      ],
      "text/markdown": [
       "1. 0.89\n",
       "2. 1.11\n",
       "\n",
       "\n"
      ],
      "text/plain": [
       "[1] 0.89 1.11"
      ]
     },
     "metadata": {},
     "output_type": "display_data"
    }
   ],
   "source": [
    "# get the clitical values for the F distribution\n",
    "round(qf(c(0.025,0.975),643-1,41288-1),digits=2)"
   ]
  },
  {
   "cell_type": "markdown",
   "metadata": {},
   "source": [
    "\\begin{gather}\n",
    "F=3.38 > F_{1-\\alpha/2,n_1-1,n_2-1}=0.9 \n",
    "\\end{gather}\n",
    "\n",
    "So we can reject the null hypothesis that the variances between two groups are equal.\n",
    "\n",
    "We can build the 95% confidence interval for the ratio of variances:\n",
    "\\begin{gather}\n",
    "\\frac{S^2_1/S^2_2}{F_{1-\\alpha/2,n_1-1,n_2-1}} < \\frac{\\sigma^2_1}{\\sigma^2_1} < \\frac{S^2_1/S^2_2}{F_{\\alpha/2,n_1-1,n_2-1}}\n",
    "\\end{gather}"
   ]
  },
  {
   "cell_type": "code",
   "execution_count": 309,
   "metadata": {},
   "outputs": [
    {
     "name": "stdout",
     "output_type": "stream",
     "text": [
      "[1] \"95% of Confidence interval is [3.03; 3.78].\"\n"
     ]
    }
   ],
   "source": [
    "lower <- F/qf(c(0.025,0.975),643-1,41288-1)[2]\n",
    "upper <- F/qf(c(0.025,0.975),643-1,41288-1)[1]\n",
    "\n",
    "print(paste0(\"95% of Confidence interval is [\", round(lower,2), \"; \", round(upper,2), \"].\"))"
   ]
  },
  {
   "cell_type": "markdown",
   "metadata": {},
   "source": [
    "And again, interval does not include **1** so we can reject the null hypothesis.\n",
    "\n",
    "There is a built-in function in R which can compute F-statistic and confidence intervals: `var.test`"
   ]
  },
  {
   "cell_type": "code",
   "execution_count": 306,
   "metadata": {},
   "outputs": [
    {
     "data": {
      "text/plain": [
       "\n",
       "\tF test to compare two variances\n",
       "\n",
       "data:  age by stroke\n",
       "F = 3.3785, num df = 41287, denom df = 642, p-value < 2.2e-16\n",
       "alternative hypothesis: true ratio of variances is not equal to 1\n",
       "95 percent confidence interval:\n",
       " 3.016555 3.761306\n",
       "sample estimates:\n",
       "ratio of variances \n",
       "           3.37849 \n"
      ]
     },
     "metadata": {},
     "output_type": "display_data"
    }
   ],
   "source": [
    "var.test(age~stroke, data = Stroke_Data)"
   ]
  },
  {
   "cell_type": "code",
   "execution_count": null,
   "metadata": {
    "collapsed": true
   },
   "outputs": [],
   "source": []
  }
 ],
 "metadata": {
  "kernelspec": {
   "display_name": "R",
   "language": "R",
   "name": "ir"
  },
  "language_info": {
   "codemirror_mode": "r",
   "file_extension": ".r",
   "mimetype": "text/x-r-source",
   "name": "R",
   "pygments_lexer": "r",
   "version": "3.4.4"
  }
 },
 "nbformat": 4,
 "nbformat_minor": 2
}
