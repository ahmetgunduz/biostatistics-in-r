{
 "cells": [
  {
   "cell_type": "markdown",
   "metadata": {},
   "source": [
    "**<center><font size=5>(Bio)statistics in R: Part #3</font></center>**\n",
    "***<center>\"Check your Guesses with Hypothesis Testing\"</center>***\n",
    "***\n",
    "\n",
    "**author**: Ruslan Klymentiev\n",
    "\n",
    "**date**: 8th August, 2018\n",
    "\n",
    "![](https://s22.postimg.cc/chgrosuqp/josh-couch-586382-unsplash.jpg)\n",
    "\n",
    "$\\blacktriangleright$ ***[Link to Part #1](https://www.kaggle.com/ruslankl/bio-statistics-in-r-part-1)*** \n",
    "\n",
    "$\\blacktriangleright$ ***[Link to Part #2](https://www.kaggle.com/ruslankl/bio-statistics-in-r-part-2)***"
   ]
  },
  {
   "cell_type": "markdown",
   "metadata": {},
   "source": [
    "- <a href='#intro'>Project Introduction</a>  \n",
    "- <a href='#setup'>Setting up the Environment</a>\n",
    "- <a href='#nhst'>Null Hypothesis Significance Testing</a> \n",
    " - <a href='#nvsa'>Null vs Alternative Hypothesis</a> \n",
    " - <a href='#ci'>Connection with CI</a> \n",
    " - <a href='#pval'>P-value</a> \n",
    "- <a href='#power'>Statistical Power</a> \n",
    " - <a href='#pwr'>Meet the pwr package</a> \n",
    "- <a href='#next'>What to Expect Next</a>"
   ]
  },
  {
   "cell_type": "markdown",
   "metadata": {},
   "source": [
    "## <a id='setup'>Project Introduction</a> \n",
    "\n",
    "Alright! Now we know how to make assumptions about population when we have only the sample. We can run *t* and F tests and find confidence intervals. In this part we are going to ask questions about the sample and answer them with hypothesis testings. \n",
    "\n",
    "The dataset stays the same: [Healthcare Dataset](https://www.kaggle.com/asaumya/healthcare-dataset-stroke-data).\n",
    "\n",
    "## <a id='setup'>Setting up the environment</a> "
   ]
  },
  {
   "cell_type": "code",
   "execution_count": 1,
   "metadata": {},
   "outputs": [
    {
     "data": {
      "text/html": [
       "<table>\n",
       "<thead><tr><th></th><th scope=col>gender</th><th scope=col>age</th><th scope=col>hypertension</th><th scope=col>heart_disease</th><th scope=col>ever_married</th><th scope=col>work_type</th><th scope=col>Residence_type</th><th scope=col>avg_glucose_level</th><th scope=col>bmi</th><th scope=col>smoking_status</th><th scope=col>stroke</th></tr></thead>\n",
       "<tbody>\n",
       "\t<tr><th scope=row>12059</th><td>Female         </td><td>38             </td><td>0              </td><td>0              </td><td>Yes            </td><td>Private        </td><td>Urban          </td><td>109.33         </td><td>26.6           </td><td>smokes         </td><td>0              </td></tr>\n",
       "\t<tr><th scope=row>33054</th><td>Female         </td><td>76             </td><td>1              </td><td>0              </td><td>No             </td><td>Private        </td><td>Urban          </td><td>208.70         </td><td>32.9           </td><td>never smoked   </td><td>0              </td></tr>\n",
       "\t<tr><th scope=row>17148</th><td>Male           </td><td>16             </td><td>0              </td><td>0              </td><td>No             </td><td>Private        </td><td>Rural          </td><td> 96.73         </td><td>33.8           </td><td>               </td><td>0              </td></tr>\n",
       "\t<tr><th scope=row>37024</th><td>Male           </td><td>54             </td><td>0              </td><td>0              </td><td>Yes            </td><td>Self-employed  </td><td>Urban          </td><td> 62.52         </td><td>29.9           </td><td>formerly smoked</td><td>0              </td></tr>\n",
       "\t<tr><th scope=row>39431</th><td>Male           </td><td>46             </td><td>0              </td><td>0              </td><td>Yes            </td><td>Private        </td><td>Rural          </td><td>137.60         </td><td>24.4           </td><td>formerly smoked</td><td>0              </td></tr>\n",
       "</tbody>\n",
       "</table>\n"
      ],
      "text/latex": [
       "\\begin{tabular}{r|lllllllllll}\n",
       "  & gender & age & hypertension & heart\\_disease & ever\\_married & work\\_type & Residence\\_type & avg\\_glucose\\_level & bmi & smoking\\_status & stroke\\\\\n",
       "\\hline\n",
       "\t12059 & Female          & 38              & 0               & 0               & Yes             & Private         & Urban           & 109.33          & 26.6            & smokes          & 0              \\\\\n",
       "\t33054 & Female          & 76              & 1               & 0               & No              & Private         & Urban           & 208.70          & 32.9            & never smoked    & 0              \\\\\n",
       "\t17148 & Male            & 16              & 0               & 0               & No              & Private         & Rural           &  96.73          & 33.8            &                 & 0              \\\\\n",
       "\t37024 & Male            & 54              & 0               & 0               & Yes             & Self-employed   & Urban           &  62.52          & 29.9            & formerly smoked & 0              \\\\\n",
       "\t39431 & Male            & 46              & 0               & 0               & Yes             & Private         & Rural           & 137.60          & 24.4            & formerly smoked & 0              \\\\\n",
       "\\end{tabular}\n"
      ],
      "text/markdown": [
       "\n",
       "| <!--/--> | gender | age | hypertension | heart_disease | ever_married | work_type | Residence_type | avg_glucose_level | bmi | smoking_status | stroke | \n",
       "|---|---|---|---|---|\n",
       "| 12059 | Female          | 38              | 0               | 0               | Yes             | Private         | Urban           | 109.33          | 26.6            | smokes          | 0               | \n",
       "| 33054 | Female          | 76              | 1               | 0               | No              | Private         | Urban           | 208.70          | 32.9            | never smoked    | 0               | \n",
       "| 17148 | Male            | 16              | 0               | 0               | No              | Private         | Rural           |  96.73          | 33.8            |                 | 0               | \n",
       "| 37024 | Male            | 54              | 0               | 0               | Yes             | Self-employed   | Urban           |  62.52          | 29.9            | formerly smoked | 0               | \n",
       "| 39431 | Male            | 46              | 0               | 0               | Yes             | Private         | Rural           | 137.60          | 24.4            | formerly smoked | 0               | \n",
       "\n",
       "\n"
      ],
      "text/plain": [
       "      gender age hypertension heart_disease ever_married work_type    \n",
       "12059 Female 38  0            0             Yes          Private      \n",
       "33054 Female 76  1            0             No           Private      \n",
       "17148 Male   16  0            0             No           Private      \n",
       "37024 Male   54  0            0             Yes          Self-employed\n",
       "39431 Male   46  0            0             Yes          Private      \n",
       "      Residence_type avg_glucose_level bmi  smoking_status  stroke\n",
       "12059 Urban          109.33            26.6 smokes          0     \n",
       "33054 Urban          208.70            32.9 never smoked    0     \n",
       "17148 Rural           96.73            33.8                 0     \n",
       "37024 Urban           62.52            29.9 formerly smoked 0     \n",
       "39431 Rural          137.60            24.4 formerly smoked 0     "
      ]
     },
     "metadata": {},
     "output_type": "display_data"
    }
   ],
   "source": [
    "suppressMessages(library(tidyverse))\n",
    "suppressMessages(library(repr))\n",
    "suppressMessages(library(pwr))\n",
    "set.seed(123)\n",
    "options(repr.plot.width=7, repr.plot.height=3)\n",
    "\n",
    "Stroke_Data <- read.csv(\"healthcare-dataset-stroke-data/train_2v.csv\")\n",
    "\n",
    "# some data cleaning\n",
    "Stroke_Data <- Stroke_Data %>% filter(gender != \"Other\" & !(is.na(bmi))) %>%\n",
    "  select(-id)\n",
    "\n",
    "# convert some variables to a factor\n",
    "Stroke_Data$hypertension <- as.factor(Stroke_Data$hypertension)\n",
    "Stroke_Data$heart_disease <- as.factor(Stroke_Data$heart_disease)\n",
    "Stroke_Data$stroke <- as.factor(Stroke_Data$stroke)\n",
    "\n",
    "sample_n(Stroke_Data, 5)"
   ]
  },
  {
   "cell_type": "markdown",
   "metadata": {},
   "source": [
    "## <a id='nhst'>Null Hypothesis Significance Testing</a> \n",
    "\n",
    "### <a id='nvsa'>Null vs Alternative Hypothesis</a> \n",
    "\n",
    "Hypothesis testing is one of the most fundamental techniques in statistics. You always want to ask question about your data - is the prevelance of disease among men higher rather than among women? Does Drug A help to reduce the pain better than Drug B? \n",
    "\n",
    "We will explore the most popular technique called **Null Hypothesis Significance Testing (NHST)**. According to this method we will always declare one hypothesis as status quo hypothesis, also called *null hypothesis*, $H_0$ - there is no evidence to assume that prevelance of disease differs among gender or pain relief ratio for Drug A is the same as for Drug B. The alternative hypothesis is usually labeled as $H_A$ or $H_1$ and that's the hypothesis we want to check. \n",
    "\n",
    "Calculations are performed assuming that the null hypothesis is true, and evidence is required to\n",
    "reject the null hypothesis in favor of the alternative. There might be 4 different types of outcome:\n",
    "\n",
    "* If $H_0$ is true and we failed to reject $H_0$, then we have **correctly accepted the null**;\n",
    "\n",
    "* If $H_0$ is true and we rejected $H_0$, then we have made a **Type I error**;\n",
    "\n",
    "* If $H_A$ is true and we rejected $H_0$, then we have **correctly rejected the null**;\n",
    "\n",
    "* If $H_A$ is true and we failed to reject $H_0$, then we have made **Type II error**.\n",
    "\n",
    "*P.S. To remember the difference between Type I error and Type II error I asways refer to this picture in my mind:*\n",
    "\n",
    "![](https://chemicalstatistician.files.wordpress.com/2014/05/pregnant.jpg)\n",
    "\n",
    "NHST controls the probabilities of the errors, *the error rates*, to make decisions. Specifically, the procedures ensure that the probability of a Type I error is small.\n",
    "\n",
    "* The probability of correctly accepting the null is $1 − \\alpha$;\n",
    "* The probability of a Type I error is called $\\alpha$.\n",
    "* The probability of correctly rejecting the null is called Power or $1 − \\beta$.\n",
    "* The pobability of a Type II error is called $\\beta$.\n",
    "\n",
    "![](https://keydifferences.com/wp-content/uploads/2017/01/possible-outcomes.jpg)"
   ]
  },
  {
   "cell_type": "markdown",
   "metadata": {},
   "source": [
    "Consider testing a mean parameter, $\\mu$ via null hypothesis $H_0: \\mu=\\mu_0$. Consider an estimator of $\\mu$, $S$, which will serve as your statistic. Assume that $S$ has standard error $SD(S)$, which is consistently estimated by $\\hat{SD}$ and that $Z score$\n",
    "\\begin{gather}\n",
    "Z=\\frac{S-\\mu_0}{\\widehat{SD(S)}}\n",
    "\\end{gather}\n",
    "either follows a normal distribution or limits to one via the central limit theorem. Then you reject $H_0$ under the\n",
    "following rules:\n",
    "\n",
    "* $H_A: \\mu>\\mu_0$: reject if $Z\\geq Z_{1-\\alpha}$ (*one-sided test*);\n",
    "\n",
    "* $H_A: \\mu<\\mu_0$: reject if $Z\\leq Z_{\\alpha}$ (*one-sided test*);\n",
    "\n",
    "* $H_A: \\mu \\neq \\mu_0$: reject if $\\vert Z \\vert \\geq Z_{1-\\alpha/2}$ (*two-sided test*).\n",
    "\n",
    "where $Z_\\alpha$ is the $\\alpha$ quantile of the standard normal; $\\alpha$ - probability of rejecting the null hypothesis when it is correct (or as said before, type I error).\n",
    "\n",
    "Here’s some examples of the test statistic and setting:\n",
    "\n",
    "* Single mean: $Z=\\frac{\\sqrt{n}(\\bar{X}-\\mu_0)}{S}$\n",
    "\n",
    "* Difference in two means: $Z=\\frac{\\bar{X_1}-\\bar{X_2} - (\\mu_1-\\mu_2)}{\\sqrt{S^2_1/n_1 + S^2_2/n_2}}$\n",
    "\n",
    "* Binomial proportion: $Z=\\frac{\\sqrt{n}(\\hat{p}-p_0)}{\\hat{p}(1-\\hat{p})}$\n",
    "\n",
    "For data that can reasonably be assumed to be normal, the standardized statistic will follow a **Student’s t distribution** and one simply follows the same rules, but with the normal quantiles replaced by **t quantiles**."
   ]
  },
  {
   "cell_type": "markdown",
   "metadata": {},
   "source": [
    "***\n",
    "**Here comes an example:**\n",
    "\n",
    "We want two check wether the mean of average glucose level differs between men and women. \n",
    "\n",
    "* null hypothesis $H_0: \\mu_1=\\mu_2$\n",
    "\n",
    "* alternative hypothesis $H_A: \\mu_1 \\neq \\mu_2$ (two-sided test)\n",
    "\n",
    "* $\\alpha = 0.05$"
   ]
  },
  {
   "cell_type": "code",
   "execution_count": 2,
   "metadata": {},
   "outputs": [
    {
     "data": {
      "text/html": [
       "<table>\n",
       "<thead><tr><th scope=col>gender</th><th scope=col>mean</th><th scope=col>sd</th><th scope=col>n</th></tr></thead>\n",
       "<tbody>\n",
       "\t<tr><td>Female  </td><td>102.5178</td><td>40.86181</td><td>24945   </td></tr>\n",
       "\t<tr><td>Male    </td><td>105.2728</td><td>44.11804</td><td>16986   </td></tr>\n",
       "</tbody>\n",
       "</table>\n"
      ],
      "text/latex": [
       "\\begin{tabular}{r|llll}\n",
       " gender & mean & sd & n\\\\\n",
       "\\hline\n",
       "\t Female   & 102.5178 & 40.86181 & 24945   \\\\\n",
       "\t Male     & 105.2728 & 44.11804 & 16986   \\\\\n",
       "\\end{tabular}\n"
      ],
      "text/markdown": [
       "\n",
       "gender | mean | sd | n | \n",
       "|---|---|\n",
       "| Female   | 102.5178 | 40.86181 | 24945    | \n",
       "| Male     | 105.2728 | 44.11804 | 16986    | \n",
       "\n",
       "\n"
      ],
      "text/plain": [
       "  gender mean     sd       n    \n",
       "1 Female 102.5178 40.86181 24945\n",
       "2 Male   105.2728 44.11804 16986"
      ]
     },
     "metadata": {},
     "output_type": "display_data"
    }
   ],
   "source": [
    "## consider an example:\n",
    "avg_glucose_level = Stroke_Data %>%\n",
    "    group_by(gender) %>%\n",
    "    summarise(mean = mean(avg_glucose_level), sd = sd(avg_glucose_level), n = n())\n",
    "avg_glucose_level"
   ]
  },
  {
   "cell_type": "code",
   "execution_count": 3,
   "metadata": {},
   "outputs": [
    {
     "name": "stdout",
     "output_type": "stream",
     "text": [
      "[1] \"Calucated Z-score: 6.47\"\n",
      "[1] \"Z_0.975: 1.96\"\n"
     ]
    }
   ],
   "source": [
    "estimate = avg_glucose_level$mean[2] - avg_glucose_level$mean[1]\n",
    "mu0 = 0\n",
    "se = sqrt(avg_glucose_level$sd[2]^2 / avg_glucose_level$n[2] + avg_glucose_level$sd[1]^2 / avg_glucose_level$n[1])\n",
    "ts = (estimate - mu0) / se\n",
    "print(paste0(\"Calucated Z-score: \", round(ts, 2)))\n",
    "print(paste0(\"Z_0.975: \", round(qnorm(.975), 2)))"
   ]
  },
  {
   "cell_type": "markdown",
   "metadata": {},
   "source": [
    "**We can see that the resulted test statistic is much larger than 0.975 quantile of the normal distribution, so we reject null hypothesis.**\n",
    "***\n",
    "Now let's do one-sided test for single mean. We believe that average **BMI** for the population is larger than 30 (regardless of the gender). Let's check our beliefs:\n",
    "\n",
    "* null hypothesis $H_0: \\mu_1=\\mu_0=30$\n",
    "\n",
    "* alternative hypothesis $H_A: \\mu_1 > \\mu_0$ (one-sided test)\n",
    "\n",
    "* $\\alpha = 0.05$\n",
    "\n",
    "We will reject the null hypothesis when $Z\\geq Z_{1-\\alpha}$"
   ]
  },
  {
   "cell_type": "code",
   "execution_count": 4,
   "metadata": {},
   "outputs": [
    {
     "data": {
      "text/html": [
       "<table>\n",
       "<thead><tr><th scope=col>mean</th><th scope=col>sd</th><th scope=col>n</th></tr></thead>\n",
       "<tbody>\n",
       "\t<tr><td>28.60516</td><td>7.770186</td><td>41931   </td></tr>\n",
       "</tbody>\n",
       "</table>\n"
      ],
      "text/latex": [
       "\\begin{tabular}{r|lll}\n",
       " mean & sd & n\\\\\n",
       "\\hline\n",
       "\t 28.60516 & 7.770186 & 41931   \\\\\n",
       "\\end{tabular}\n"
      ],
      "text/markdown": [
       "\n",
       "mean | sd | n | \n",
       "|---|\n",
       "| 28.60516 | 7.770186 | 41931    | \n",
       "\n",
       "\n"
      ],
      "text/plain": [
       "  mean     sd       n    \n",
       "1 28.60516 7.770186 41931"
      ]
     },
     "metadata": {},
     "output_type": "display_data"
    }
   ],
   "source": [
    "bmi = Stroke_Data %>%\n",
    "    select(bmi) %>%\n",
    "    summarise(mean = mean(bmi), sd = sd(bmi), n = n())\n",
    "bmi"
   ]
  },
  {
   "cell_type": "code",
   "execution_count": 5,
   "metadata": {},
   "outputs": [
    {
     "name": "stdout",
     "output_type": "stream",
     "text": [
      "[1] \"Calucated Z-score: -36.76\"\n",
      "[1] \"Z_0.95: 1.64\"\n"
     ]
    }
   ],
   "source": [
    "mu_0 = 30\n",
    "alpha=0.05\n",
    "Z = sqrt(bmi$n)*(bmi$mean - mu_0)/bmi$sd\n",
    "\n",
    "print(paste0(\"Calucated Z-score: \", round(Z, 2)))\n",
    "print(paste0(\"Z_0.95: \", round(qnorm(1-alpha), 2)))"
   ]
  },
  {
   "cell_type": "markdown",
   "metadata": {},
   "source": [
    "**Calculated score is much smaller than .95 quantile of the normal distribution, so we don't have enough evidence to reject the null hypothesis.**"
   ]
  },
  {
   "cell_type": "markdown",
   "metadata": {
    "collapsed": true
   },
   "source": [
    "### <a id='ci'>Connection with CI</a> \n",
    "\n",
    "Consider testing $H_0: \\mu = \\mu_0$ vs $H_A: \\mu \\neq \\mu_0$. Take the set of all possible values for which you fail to reject $H_0$, this set is a $(1-\\alpha)100$% CI for $\\mu$. \n",
    "\n",
    "The same works in reverse, if a $(1-\\alpha)100$% CI contains $\\mu_0$ then we fail to reject $H_0$ (*the same as we did in t-tests*).\n",
    "\n",
    "Looking back on previous example with average glucose level:"
   ]
  },
  {
   "cell_type": "code",
   "execution_count": 6,
   "metadata": {},
   "outputs": [
    {
     "data": {
      "text/html": [
       "<ol class=list-inline>\n",
       "\t<li>1.92</li>\n",
       "\t<li>3.59</li>\n",
       "</ol>\n"
      ],
      "text/latex": [
       "\\begin{enumerate*}\n",
       "\\item 1.92\n",
       "\\item 3.59\n",
       "\\end{enumerate*}\n"
      ],
      "text/markdown": [
       "1. 1.92\n",
       "2. 3.59\n",
       "\n",
       "\n"
      ],
      "text/plain": [
       "[1] 1.92 3.59"
      ]
     },
     "metadata": {},
     "output_type": "display_data"
    }
   ],
   "source": [
    "## 95% CI for difference in mean of average glucose level\n",
    "## H_0: mu_1 - mu_2 = 0, H_A: mu_1 - mu_2 != 0\n",
    "round(estimate + c(-1, 1) * qnorm(.975) * se, 2)"
   ]
  },
  {
   "cell_type": "markdown",
   "metadata": {},
   "source": [
    "**95% CI doesn't contain a 0, so we reject the null hypothesis.**\n",
    "\n",
    "Also, we could call `t.test` function which we have seen in part #1. We can see that results are the same:"
   ]
  },
  {
   "cell_type": "code",
   "execution_count": 7,
   "metadata": {},
   "outputs": [
    {
     "data": {
      "text/plain": [
       "\n",
       "\tWelch Two Sample t-test\n",
       "\n",
       "data:  Stroke_Data$avg_glucose_level by Stroke_Data$gender\n",
       "t = -6.4663, df = 34587, p-value = 1.018e-10\n",
       "alternative hypothesis: true difference in means is not equal to 0\n",
       "95 percent confidence interval:\n",
       " -3.590087 -1.919921\n",
       "sample estimates:\n",
       "mean in group Female   mean in group Male \n",
       "            102.5178             105.2728 \n"
      ]
     },
     "metadata": {},
     "output_type": "display_data"
    }
   ],
   "source": [
    "## example 1 with average glucose level\n",
    "t.test(Stroke_Data$avg_glucose_level ~ Stroke_Data$gender, var.equal = FALSE)"
   ]
  },
  {
   "cell_type": "code",
   "execution_count": 8,
   "metadata": {},
   "outputs": [
    {
     "data": {
      "text/plain": [
       "\n",
       "\tOne Sample t-test\n",
       "\n",
       "data:  Stroke_Data$bmi\n",
       "t = -36.759, df = 41930, p-value = 1\n",
       "alternative hypothesis: true mean is greater than 30\n",
       "95 percent confidence interval:\n",
       " 28.54274      Inf\n",
       "sample estimates:\n",
       "mean of x \n",
       " 28.60516 \n"
      ]
     },
     "metadata": {},
     "output_type": "display_data"
    }
   ],
   "source": [
    "## example 2 with BMI\n",
    "t.test(Stroke_Data$bmi, mu=mu_0, alternative=\"greater\")"
   ]
  },
  {
   "cell_type": "markdown",
   "metadata": {},
   "source": [
    "### <a id='pval'>P-value</a> \n",
    "\n",
    "The **p value** is the smallest value of $\\alpha$ where we still reject a null hypothesis. The smaller the p-value, the strong the evidence that you should reject the null hypothesis.\n",
    "\n",
    "> P-value is the probability under the null hypothesis of obtaining evidence as extreme or more extreme than would be observed by chance alone.\n",
    "\n",
    "Consider an example:\n",
    "\n",
    "* $H_0$ : ratio of strokes among men and women is the same\n",
    "\n",
    "* $H_A$ : ratio of strokes among men and women is different\n",
    "\n",
    "* $\\alpha$ = 0.05\n",
    "\n",
    "We will use `prop.test` function for this:"
   ]
  },
  {
   "cell_type": "code",
   "execution_count": 9,
   "metadata": {},
   "outputs": [
    {
     "data": {
      "text/html": [
       "<table>\n",
       "<thead><tr><th scope=col>gender</th><th scope=col>n</th><th scope=col>x</th></tr></thead>\n",
       "<tbody>\n",
       "\t<tr><td>Female</td><td>24945 </td><td>357   </td></tr>\n",
       "\t<tr><td>Male  </td><td>16986 </td><td>286   </td></tr>\n",
       "</tbody>\n",
       "</table>\n"
      ],
      "text/latex": [
       "\\begin{tabular}{r|lll}\n",
       " gender & n & x\\\\\n",
       "\\hline\n",
       "\t Female & 24945  & 357   \\\\\n",
       "\t Male   & 16986  & 286   \\\\\n",
       "\\end{tabular}\n"
      ],
      "text/markdown": [
       "\n",
       "gender | n | x | \n",
       "|---|---|\n",
       "| Female | 24945  | 357    | \n",
       "| Male   | 16986  | 286    | \n",
       "\n",
       "\n"
      ],
      "text/plain": [
       "  gender n     x  \n",
       "1 Female 24945 357\n",
       "2 Male   16986 286"
      ]
     },
     "metadata": {},
     "output_type": "display_data"
    }
   ],
   "source": [
    "stroke <- Stroke_Data %>%\n",
    "    select(gender, stroke) %>%\n",
    "    mutate(stroke = as.integer(levels(Stroke_Data$stroke))[Stroke_Data$stroke]) %>%\n",
    "    group_by(gender) %>%\n",
    "    summarise(n = n(), # total number of observations\n",
    "              x = sum(stroke)) # total number of positive stroke outcomes\n",
    "stroke"
   ]
  },
  {
   "cell_type": "code",
   "execution_count": 10,
   "metadata": {},
   "outputs": [
    {
     "data": {
      "text/plain": [
       "\n",
       "\t2-sample test for equality of proportions with continuity correction\n",
       "\n",
       "data:  c(stroke$x[1], stroke$x[2]) out of c(stroke$n[1], stroke$n[2])\n",
       "X-squared = 4.1042, df = 1, p-value = 0.04278\n",
       "alternative hypothesis: two.sided\n",
       "95 percent confidence interval:\n",
       " -5.007699e-03 -4.412189e-05\n",
       "sample estimates:\n",
       "    prop 1     prop 2 \n",
       "0.01431149 0.01683740 \n"
      ]
     },
     "metadata": {},
     "output_type": "display_data"
    }
   ],
   "source": [
    "result <- prop.test(x = c(stroke$x[1], stroke$x[2]), \n",
    "                    n = c(stroke$n[1], stroke$n[2]), \n",
    "                    alternative = \"two.sided\")\n",
    "result"
   ]
  },
  {
   "cell_type": "code",
   "execution_count": 11,
   "metadata": {},
   "outputs": [
    {
     "name": "stdout",
     "output_type": "stream",
     "text": [
      "[1] \"Calculated p-value is: 0.043\"\n",
      "[1] \"Significance level alpha is: 0.05\"\n"
     ]
    }
   ],
   "source": [
    "print(paste0(\"Calculated p-value is: \", round(result$p.value, 3)))\n",
    "print(paste0(\"Significance level alpha is: 0.05\"))"
   ]
  },
  {
   "cell_type": "markdown",
   "metadata": {},
   "source": [
    "**We see that $p.value<\\alpha$ so we reject the null hypothesis - there are not enough evidence to believe that ratio of strokes among men and women is the same.**"
   ]
  },
  {
   "cell_type": "markdown",
   "metadata": {},
   "source": [
    "## <a id='power'>Statistical Power</a> \n",
    "\n",
    "Power is the probability of rejecting the null hypothesis whe it is false. **The more power, the better!**\n",
    "\n",
    "$Power=1-\\beta$\n",
    "\n",
    "In a power calculation, one fixes the sample size and other aspects of the study and calculates an estimate of the power. In a sample size calculation, one fixes the power then determines the minimum sample size to acheive it."
   ]
  },
  {
   "cell_type": "markdown",
   "metadata": {},
   "source": [
    "### <a id='pwr'>Meet the pwr package</a> \n",
    "\n",
    "#### Find the Power value\n",
    "\n",
    "Recall the last example with the stroke outcomes ratio among men and women.\n",
    "\n",
    "Let's find the power of a test where we want to check whether the proportion between the groups is significant with significance level of 0.05. Let's say that proportion for the first group is 0.1 and 0.2 for the second group. Each group consist of 100 observations. \n",
    "\n",
    "We will use `pwr.2p2n.test` from `pwr` package. The amazing part of this package is that you have to fill in parameters you have (size of proportions, ratio) and it will calculate the rest (power)."
   ]
  },
  {
   "cell_type": "code",
   "execution_count": 12,
   "metadata": {},
   "outputs": [
    {
     "data": {
      "text/html": [
       "<table>\n",
       "<thead><tr><th scope=col>gender</th><th scope=col>n</th><th scope=col>x</th></tr></thead>\n",
       "<tbody>\n",
       "\t<tr><td>Female</td><td>24945 </td><td>357   </td></tr>\n",
       "\t<tr><td>Male  </td><td>16986 </td><td>286   </td></tr>\n",
       "</tbody>\n",
       "</table>\n"
      ],
      "text/latex": [
       "\\begin{tabular}{r|lll}\n",
       " gender & n & x\\\\\n",
       "\\hline\n",
       "\t Female & 24945  & 357   \\\\\n",
       "\t Male   & 16986  & 286   \\\\\n",
       "\\end{tabular}\n"
      ],
      "text/markdown": [
       "\n",
       "gender | n | x | \n",
       "|---|---|\n",
       "| Female | 24945  | 357    | \n",
       "| Male   | 16986  | 286    | \n",
       "\n",
       "\n"
      ],
      "text/plain": [
       "  gender n     x  \n",
       "1 Female 24945 357\n",
       "2 Male   16986 286"
      ]
     },
     "metadata": {},
     "output_type": "display_data"
    }
   ],
   "source": [
    "stroke"
   ]
  },
  {
   "cell_type": "code",
   "execution_count": 13,
   "metadata": {},
   "outputs": [],
   "source": [
    "n1 <- stroke$n[1]\n",
    "p1 <- stroke$x[1]/n1\n",
    "n2 <- stroke$n[2]\n",
    "p2 <- stroke$x[2]/n2\n",
    "h <- p2 - p1 ## difference between ratios"
   ]
  },
  {
   "cell_type": "code",
   "execution_count": 14,
   "metadata": {},
   "outputs": [
    {
     "data": {
      "text/plain": [
       "\n",
       "     difference of proportion power calculation for binomial distribution (arcsine transformation) \n",
       "\n",
       "              h = 0.00252591\n",
       "             n1 = 24945\n",
       "             n2 = 16986\n",
       "      sig.level = 0.05\n",
       "          power = 0.05741801\n",
       "    alternative = two.sided\n",
       "\n",
       "NOTE: different sample sizes\n"
      ]
     },
     "metadata": {},
     "output_type": "display_data"
    }
   ],
   "source": [
    "pwr.2p2n.test(h = h, \n",
    "              n1 = n1, \n",
    "              n2 = n2, \n",
    "              sig.level = 0.05)"
   ]
  },
  {
   "cell_type": "markdown",
   "metadata": {},
   "source": [
    "Power is just 5.7%. In other words, the probability of correctly rejecting null hypothesis (no difference between the groups) is 5.7%."
   ]
  },
  {
   "cell_type": "markdown",
   "metadata": {},
   "source": [
    "#### Find the best Sample Size\n",
    "\n",
    "Now image you want to run a test to find \"small\" effect between two groups proportion (difference ~ 0.2). You want to know want sample size should you choose to get the oprimal value of power."
   ]
  },
  {
   "cell_type": "code",
   "execution_count": 15,
   "metadata": {},
   "outputs": [
    {
     "data": {
      "text/html": [
       "<table>\n",
       "<thead><tr><th scope=col>n</th><th scope=col>power</th></tr></thead>\n",
       "<tbody>\n",
       "\t<tr><td> 10   </td><td>9.69% </td></tr>\n",
       "\t<tr><td> 20   </td><td>14.55%</td></tr>\n",
       "\t<tr><td> 30   </td><td>19.48%</td></tr>\n",
       "\t<tr><td> 40   </td><td>24.41%</td></tr>\n",
       "\t<tr><td> 50   </td><td>29.30%</td></tr>\n",
       "\t<tr><td> 60   </td><td>34.08%</td></tr>\n",
       "\t<tr><td> 70   </td><td>38.73%</td></tr>\n",
       "\t<tr><td> 80   </td><td>43.22%</td></tr>\n",
       "\t<tr><td> 90   </td><td>47.51%</td></tr>\n",
       "\t<tr><td>100   </td><td>51.60%</td></tr>\n",
       "</tbody>\n",
       "</table>\n"
      ],
      "text/latex": [
       "\\begin{tabular}{r|ll}\n",
       " n & power\\\\\n",
       "\\hline\n",
       "\t  10      & 9.69\\% \\\\\n",
       "\t  20      & 14.55\\%\\\\\n",
       "\t  30      & 19.48\\%\\\\\n",
       "\t  40      & 24.41\\%\\\\\n",
       "\t  50      & 29.30\\%\\\\\n",
       "\t  60      & 34.08\\%\\\\\n",
       "\t  70      & 38.73\\%\\\\\n",
       "\t  80      & 43.22\\%\\\\\n",
       "\t  90      & 47.51\\%\\\\\n",
       "\t 100      & 51.60\\%\\\\\n",
       "\\end{tabular}\n"
      ],
      "text/markdown": [
       "\n",
       "n | power | \n",
       "|---|---|---|---|---|---|---|---|---|---|\n",
       "|  10    | 9.69%  | \n",
       "|  20    | 14.55% | \n",
       "|  30    | 19.48% | \n",
       "|  40    | 24.41% | \n",
       "|  50    | 29.30% | \n",
       "|  60    | 34.08% | \n",
       "|  70    | 38.73% | \n",
       "|  80    | 43.22% | \n",
       "|  90    | 47.51% | \n",
       "| 100    | 51.60% | \n",
       "\n",
       "\n"
      ],
      "text/plain": [
       "   n   power \n",
       "1   10 9.69% \n",
       "2   20 14.55%\n",
       "3   30 19.48%\n",
       "4   40 24.41%\n",
       "5   50 29.30%\n",
       "6   60 34.08%\n",
       "7   70 38.73%\n",
       "8   80 43.22%\n",
       "9   90 47.51%\n",
       "10 100 51.60%"
      ]
     },
     "metadata": {},
     "output_type": "display_data"
    }
   ],
   "source": [
    "n <- seq(10,100,10)\n",
    "p.out <- pwr.p.test(h = 0.2,\n",
    "                    n = n,\n",
    "                    sig.level = 0.05)\n",
    "data.frame(n, power = sprintf(\"%.2f%%\", p.out$power * 100))"
   ]
  },
  {
   "cell_type": "markdown",
   "metadata": {},
   "source": [
    "In order to achive 51% probability of correctly rejecting null hypothesis you have to gather information from 2 groups with 100 people each.\n",
    "\n",
    "**You can find more examples of `pwr` package usage on [Cran-R](https://cran.r-project.org/web/packages/pwr/vignettes/pwr-vignette.html).**"
   ]
  },
  {
   "cell_type": "markdown",
   "metadata": {},
   "source": [
    "## <a id='next'>What to Expect Next</a>\n",
    "\n",
    "Now I have covered all subjects I wanted. I will go through all them again later to check if there are any mistakes or to add some more examples. \n",
    "\n",
    "If you want to dig deeper into biostatistics I higly encourage you take two-part course at Coursera: [Mathematical Biostatistics Boot Camp 1](https://www.coursera.org/learn/biostatistics/) & [Mathematical Biostatistics Boot Camp 2](https://www.coursera.org/learn/biostatistics-2/) and go through [Methods in Biostatistics with R](https://leanpub.com/biostatmethods) book.\n",
    "\n",
    "**So, what I expect from you now is to ask me questions about problems you want to solve with statistical analysis that were covered in this 3-part tutorial. Feel free to contact me here on Kaggle or Linkedin.**"
   ]
  }
 ],
 "metadata": {
  "kernelspec": {
   "display_name": "R",
   "language": "R",
   "name": "ir"
  },
  "language_info": {
   "codemirror_mode": "r",
   "file_extension": ".r",
   "mimetype": "text/x-r-source",
   "name": "R",
   "pygments_lexer": "r",
   "version": "3.4.4"
  }
 },
 "nbformat": 4,
 "nbformat_minor": 2
}
